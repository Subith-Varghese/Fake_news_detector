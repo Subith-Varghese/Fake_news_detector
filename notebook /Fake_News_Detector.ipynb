{
  "nbformat": 4,
  "nbformat_minor": 0,
  "metadata": {
    "colab": {
      "provenance": [],
      "gpuType": "T4",
      "include_colab_link": true
    },
    "kernelspec": {
      "name": "python3",
      "display_name": "Python 3"
    },
    "language_info": {
      "name": "python"
    },
    "accelerator": "GPU"
  },
  "cells": [
    {
      "cell_type": "markdown",
      "metadata": {
        "id": "view-in-github",
        "colab_type": "text"
      },
      "source": [
        "<a href=\"https://colab.research.google.com/github/Subith-Varghese/Fake_news_detector/blob/main/notebook%20/Fake_News_Detector.ipynb\" target=\"_parent\"><img src=\"https://colab.research.google.com/assets/colab-badge.svg\" alt=\"Open In Colab\"/></a>"
      ]
    },
    {
      "cell_type": "code",
      "source": [
        "!pip install opendatasets"
      ],
      "metadata": {
        "colab": {
          "base_uri": "https://localhost:8080/"
        },
        "id": "ixeQ9H99V_Gi",
        "outputId": "8395c58d-8f81-4f9c-981b-ce19839c86ec"
      },
      "execution_count": null,
      "outputs": [
        {
          "output_type": "stream",
          "name": "stdout",
          "text": [
            "Collecting opendatasets\n",
            "  Downloading opendatasets-0.1.22-py3-none-any.whl.metadata (9.2 kB)\n",
            "Requirement already satisfied: tqdm in /usr/local/lib/python3.11/dist-packages (from opendatasets) (4.67.1)\n",
            "Requirement already satisfied: kaggle in /usr/local/lib/python3.11/dist-packages (from opendatasets) (1.7.4.5)\n",
            "Requirement already satisfied: click in /usr/local/lib/python3.11/dist-packages (from opendatasets) (8.2.1)\n",
            "Requirement already satisfied: bleach in /usr/local/lib/python3.11/dist-packages (from kaggle->opendatasets) (6.2.0)\n",
            "Requirement already satisfied: certifi>=14.05.14 in /usr/local/lib/python3.11/dist-packages (from kaggle->opendatasets) (2025.8.3)\n",
            "Requirement already satisfied: charset-normalizer in /usr/local/lib/python3.11/dist-packages (from kaggle->opendatasets) (3.4.2)\n",
            "Requirement already satisfied: idna in /usr/local/lib/python3.11/dist-packages (from kaggle->opendatasets) (3.10)\n",
            "Requirement already satisfied: protobuf in /usr/local/lib/python3.11/dist-packages (from kaggle->opendatasets) (5.29.5)\n",
            "Requirement already satisfied: python-dateutil>=2.5.3 in /usr/local/lib/python3.11/dist-packages (from kaggle->opendatasets) (2.9.0.post0)\n",
            "Requirement already satisfied: python-slugify in /usr/local/lib/python3.11/dist-packages (from kaggle->opendatasets) (8.0.4)\n",
            "Requirement already satisfied: requests in /usr/local/lib/python3.11/dist-packages (from kaggle->opendatasets) (2.32.3)\n",
            "Requirement already satisfied: setuptools>=21.0.0 in /usr/local/lib/python3.11/dist-packages (from kaggle->opendatasets) (75.2.0)\n",
            "Requirement already satisfied: six>=1.10 in /usr/local/lib/python3.11/dist-packages (from kaggle->opendatasets) (1.17.0)\n",
            "Requirement already satisfied: text-unidecode in /usr/local/lib/python3.11/dist-packages (from kaggle->opendatasets) (1.3)\n",
            "Requirement already satisfied: urllib3>=1.15.1 in /usr/local/lib/python3.11/dist-packages (from kaggle->opendatasets) (2.5.0)\n",
            "Requirement already satisfied: webencodings in /usr/local/lib/python3.11/dist-packages (from kaggle->opendatasets) (0.5.1)\n",
            "Downloading opendatasets-0.1.22-py3-none-any.whl (15 kB)\n",
            "Installing collected packages: opendatasets\n",
            "Successfully installed opendatasets-0.1.22\n"
          ]
        }
      ]
    },
    {
      "cell_type": "code",
      "execution_count": null,
      "metadata": {
        "colab": {
          "base_uri": "https://localhost:8080/"
        },
        "id": "0O8ghibyUALk",
        "outputId": "347f223e-56cf-479a-d319-ea4b80c987ec"
      },
      "outputs": [
        {
          "output_type": "stream",
          "name": "stdout",
          "text": [
            "Dataset URL: https://www.kaggle.com/datasets/emineyetm/fake-news-detection-datasets\n",
            "Downloading fake-news-detection-datasets.zip to ./fake-news-detection-datasets\n"
          ]
        },
        {
          "output_type": "stream",
          "name": "stderr",
          "text": [
            "100%|██████████| 41.0M/41.0M [00:00<00:00, 1.25GB/s]"
          ]
        },
        {
          "output_type": "stream",
          "name": "stdout",
          "text": [
            "\n"
          ]
        },
        {
          "output_type": "stream",
          "name": "stderr",
          "text": [
            "\n"
          ]
        }
      ],
      "source": [
        "import opendatasets as od\n",
        "od.download(\"https://www.kaggle.com/datasets/emineyetm/fake-news-detection-datasets\")"
      ]
    },
    {
      "cell_type": "markdown",
      "source": [
        "# Step 1 : Load Both CSV Files"
      ],
      "metadata": {
        "id": "LJ79o1kIW06m"
      }
    },
    {
      "cell_type": "code",
      "source": [
        "import pandas as pd\n",
        "\n",
        "# Load datasets\n",
        "df_true = pd.read_csv(\"fake-news-detection-datasets/News _dataset/True.csv\")\n",
        "df_fake = pd.read_csv(\"fake-news-detection-datasets/News _dataset/Fake.csv\")\n",
        "\n",
        "print(\"True shape:\", df_true.shape)\n",
        "print(\"Fake shape:\", df_fake.shape)\n",
        "\n",
        "# Quick peek\n",
        "df_true.head()"
      ],
      "metadata": {
        "colab": {
          "base_uri": "https://localhost:8080/",
          "height": 414
        },
        "id": "W4S_lhyvWHKL",
        "outputId": "59aceae8-b826-4fa5-e88e-0989329f3c24"
      },
      "execution_count": null,
      "outputs": [
        {
          "output_type": "stream",
          "name": "stdout",
          "text": [
            "True shape: (21417, 4)\n",
            "Fake shape: (23481, 4)\n"
          ]
        },
        {
          "output_type": "execute_result",
          "data": {
            "text/plain": [
              "                                               title  \\\n",
              "0  As U.S. budget fight looms, Republicans flip t...   \n",
              "1  U.S. military to accept transgender recruits o...   \n",
              "2  Senior U.S. Republican senator: 'Let Mr. Muell...   \n",
              "3  FBI Russia probe helped by Australian diplomat...   \n",
              "4  Trump wants Postal Service to charge 'much mor...   \n",
              "\n",
              "                                                text       subject  \\\n",
              "0  WASHINGTON (Reuters) - The head of a conservat...  politicsNews   \n",
              "1  WASHINGTON (Reuters) - Transgender people will...  politicsNews   \n",
              "2  WASHINGTON (Reuters) - The special counsel inv...  politicsNews   \n",
              "3  WASHINGTON (Reuters) - Trump campaign adviser ...  politicsNews   \n",
              "4  SEATTLE/WASHINGTON (Reuters) - President Donal...  politicsNews   \n",
              "\n",
              "                 date  \n",
              "0  December 31, 2017   \n",
              "1  December 29, 2017   \n",
              "2  December 31, 2017   \n",
              "3  December 30, 2017   \n",
              "4  December 29, 2017   "
            ],
            "text/html": [
              "\n",
              "  <div id=\"df-ebd3f790-74eb-42d3-af9a-f5d5b9cc3652\" class=\"colab-df-container\">\n",
              "    <div>\n",
              "<style scoped>\n",
              "    .dataframe tbody tr th:only-of-type {\n",
              "        vertical-align: middle;\n",
              "    }\n",
              "\n",
              "    .dataframe tbody tr th {\n",
              "        vertical-align: top;\n",
              "    }\n",
              "\n",
              "    .dataframe thead th {\n",
              "        text-align: right;\n",
              "    }\n",
              "</style>\n",
              "<table border=\"1\" class=\"dataframe\">\n",
              "  <thead>\n",
              "    <tr style=\"text-align: right;\">\n",
              "      <th></th>\n",
              "      <th>title</th>\n",
              "      <th>text</th>\n",
              "      <th>subject</th>\n",
              "      <th>date</th>\n",
              "    </tr>\n",
              "  </thead>\n",
              "  <tbody>\n",
              "    <tr>\n",
              "      <th>0</th>\n",
              "      <td>As U.S. budget fight looms, Republicans flip t...</td>\n",
              "      <td>WASHINGTON (Reuters) - The head of a conservat...</td>\n",
              "      <td>politicsNews</td>\n",
              "      <td>December 31, 2017</td>\n",
              "    </tr>\n",
              "    <tr>\n",
              "      <th>1</th>\n",
              "      <td>U.S. military to accept transgender recruits o...</td>\n",
              "      <td>WASHINGTON (Reuters) - Transgender people will...</td>\n",
              "      <td>politicsNews</td>\n",
              "      <td>December 29, 2017</td>\n",
              "    </tr>\n",
              "    <tr>\n",
              "      <th>2</th>\n",
              "      <td>Senior U.S. Republican senator: 'Let Mr. Muell...</td>\n",
              "      <td>WASHINGTON (Reuters) - The special counsel inv...</td>\n",
              "      <td>politicsNews</td>\n",
              "      <td>December 31, 2017</td>\n",
              "    </tr>\n",
              "    <tr>\n",
              "      <th>3</th>\n",
              "      <td>FBI Russia probe helped by Australian diplomat...</td>\n",
              "      <td>WASHINGTON (Reuters) - Trump campaign adviser ...</td>\n",
              "      <td>politicsNews</td>\n",
              "      <td>December 30, 2017</td>\n",
              "    </tr>\n",
              "    <tr>\n",
              "      <th>4</th>\n",
              "      <td>Trump wants Postal Service to charge 'much mor...</td>\n",
              "      <td>SEATTLE/WASHINGTON (Reuters) - President Donal...</td>\n",
              "      <td>politicsNews</td>\n",
              "      <td>December 29, 2017</td>\n",
              "    </tr>\n",
              "  </tbody>\n",
              "</table>\n",
              "</div>\n",
              "    <div class=\"colab-df-buttons\">\n",
              "\n",
              "  <div class=\"colab-df-container\">\n",
              "    <button class=\"colab-df-convert\" onclick=\"convertToInteractive('df-ebd3f790-74eb-42d3-af9a-f5d5b9cc3652')\"\n",
              "            title=\"Convert this dataframe to an interactive table.\"\n",
              "            style=\"display:none;\">\n",
              "\n",
              "  <svg xmlns=\"http://www.w3.org/2000/svg\" height=\"24px\" viewBox=\"0 -960 960 960\">\n",
              "    <path d=\"M120-120v-720h720v720H120Zm60-500h600v-160H180v160Zm220 220h160v-160H400v160Zm0 220h160v-160H400v160ZM180-400h160v-160H180v160Zm440 0h160v-160H620v160ZM180-180h160v-160H180v160Zm440 0h160v-160H620v160Z\"/>\n",
              "  </svg>\n",
              "    </button>\n",
              "\n",
              "  <style>\n",
              "    .colab-df-container {\n",
              "      display:flex;\n",
              "      gap: 12px;\n",
              "    }\n",
              "\n",
              "    .colab-df-convert {\n",
              "      background-color: #E8F0FE;\n",
              "      border: none;\n",
              "      border-radius: 50%;\n",
              "      cursor: pointer;\n",
              "      display: none;\n",
              "      fill: #1967D2;\n",
              "      height: 32px;\n",
              "      padding: 0 0 0 0;\n",
              "      width: 32px;\n",
              "    }\n",
              "\n",
              "    .colab-df-convert:hover {\n",
              "      background-color: #E2EBFA;\n",
              "      box-shadow: 0px 1px 2px rgba(60, 64, 67, 0.3), 0px 1px 3px 1px rgba(60, 64, 67, 0.15);\n",
              "      fill: #174EA6;\n",
              "    }\n",
              "\n",
              "    .colab-df-buttons div {\n",
              "      margin-bottom: 4px;\n",
              "    }\n",
              "\n",
              "    [theme=dark] .colab-df-convert {\n",
              "      background-color: #3B4455;\n",
              "      fill: #D2E3FC;\n",
              "    }\n",
              "\n",
              "    [theme=dark] .colab-df-convert:hover {\n",
              "      background-color: #434B5C;\n",
              "      box-shadow: 0px 1px 3px 1px rgba(0, 0, 0, 0.15);\n",
              "      filter: drop-shadow(0px 1px 2px rgba(0, 0, 0, 0.3));\n",
              "      fill: #FFFFFF;\n",
              "    }\n",
              "  </style>\n",
              "\n",
              "    <script>\n",
              "      const buttonEl =\n",
              "        document.querySelector('#df-ebd3f790-74eb-42d3-af9a-f5d5b9cc3652 button.colab-df-convert');\n",
              "      buttonEl.style.display =\n",
              "        google.colab.kernel.accessAllowed ? 'block' : 'none';\n",
              "\n",
              "      async function convertToInteractive(key) {\n",
              "        const element = document.querySelector('#df-ebd3f790-74eb-42d3-af9a-f5d5b9cc3652');\n",
              "        const dataTable =\n",
              "          await google.colab.kernel.invokeFunction('convertToInteractive',\n",
              "                                                    [key], {});\n",
              "        if (!dataTable) return;\n",
              "\n",
              "        const docLinkHtml = 'Like what you see? Visit the ' +\n",
              "          '<a target=\"_blank\" href=https://colab.research.google.com/notebooks/data_table.ipynb>data table notebook</a>'\n",
              "          + ' to learn more about interactive tables.';\n",
              "        element.innerHTML = '';\n",
              "        dataTable['output_type'] = 'display_data';\n",
              "        await google.colab.output.renderOutput(dataTable, element);\n",
              "        const docLink = document.createElement('div');\n",
              "        docLink.innerHTML = docLinkHtml;\n",
              "        element.appendChild(docLink);\n",
              "      }\n",
              "    </script>\n",
              "  </div>\n",
              "\n",
              "\n",
              "    <div id=\"df-eb417596-3ba4-487b-b842-ce62586a1c2a\">\n",
              "      <button class=\"colab-df-quickchart\" onclick=\"quickchart('df-eb417596-3ba4-487b-b842-ce62586a1c2a')\"\n",
              "                title=\"Suggest charts\"\n",
              "                style=\"display:none;\">\n",
              "\n",
              "<svg xmlns=\"http://www.w3.org/2000/svg\" height=\"24px\"viewBox=\"0 0 24 24\"\n",
              "     width=\"24px\">\n",
              "    <g>\n",
              "        <path d=\"M19 3H5c-1.1 0-2 .9-2 2v14c0 1.1.9 2 2 2h14c1.1 0 2-.9 2-2V5c0-1.1-.9-2-2-2zM9 17H7v-7h2v7zm4 0h-2V7h2v10zm4 0h-2v-4h2v4z\"/>\n",
              "    </g>\n",
              "</svg>\n",
              "      </button>\n",
              "\n",
              "<style>\n",
              "  .colab-df-quickchart {\n",
              "      --bg-color: #E8F0FE;\n",
              "      --fill-color: #1967D2;\n",
              "      --hover-bg-color: #E2EBFA;\n",
              "      --hover-fill-color: #174EA6;\n",
              "      --disabled-fill-color: #AAA;\n",
              "      --disabled-bg-color: #DDD;\n",
              "  }\n",
              "\n",
              "  [theme=dark] .colab-df-quickchart {\n",
              "      --bg-color: #3B4455;\n",
              "      --fill-color: #D2E3FC;\n",
              "      --hover-bg-color: #434B5C;\n",
              "      --hover-fill-color: #FFFFFF;\n",
              "      --disabled-bg-color: #3B4455;\n",
              "      --disabled-fill-color: #666;\n",
              "  }\n",
              "\n",
              "  .colab-df-quickchart {\n",
              "    background-color: var(--bg-color);\n",
              "    border: none;\n",
              "    border-radius: 50%;\n",
              "    cursor: pointer;\n",
              "    display: none;\n",
              "    fill: var(--fill-color);\n",
              "    height: 32px;\n",
              "    padding: 0;\n",
              "    width: 32px;\n",
              "  }\n",
              "\n",
              "  .colab-df-quickchart:hover {\n",
              "    background-color: var(--hover-bg-color);\n",
              "    box-shadow: 0 1px 2px rgba(60, 64, 67, 0.3), 0 1px 3px 1px rgba(60, 64, 67, 0.15);\n",
              "    fill: var(--button-hover-fill-color);\n",
              "  }\n",
              "\n",
              "  .colab-df-quickchart-complete:disabled,\n",
              "  .colab-df-quickchart-complete:disabled:hover {\n",
              "    background-color: var(--disabled-bg-color);\n",
              "    fill: var(--disabled-fill-color);\n",
              "    box-shadow: none;\n",
              "  }\n",
              "\n",
              "  .colab-df-spinner {\n",
              "    border: 2px solid var(--fill-color);\n",
              "    border-color: transparent;\n",
              "    border-bottom-color: var(--fill-color);\n",
              "    animation:\n",
              "      spin 1s steps(1) infinite;\n",
              "  }\n",
              "\n",
              "  @keyframes spin {\n",
              "    0% {\n",
              "      border-color: transparent;\n",
              "      border-bottom-color: var(--fill-color);\n",
              "      border-left-color: var(--fill-color);\n",
              "    }\n",
              "    20% {\n",
              "      border-color: transparent;\n",
              "      border-left-color: var(--fill-color);\n",
              "      border-top-color: var(--fill-color);\n",
              "    }\n",
              "    30% {\n",
              "      border-color: transparent;\n",
              "      border-left-color: var(--fill-color);\n",
              "      border-top-color: var(--fill-color);\n",
              "      border-right-color: var(--fill-color);\n",
              "    }\n",
              "    40% {\n",
              "      border-color: transparent;\n",
              "      border-right-color: var(--fill-color);\n",
              "      border-top-color: var(--fill-color);\n",
              "    }\n",
              "    60% {\n",
              "      border-color: transparent;\n",
              "      border-right-color: var(--fill-color);\n",
              "    }\n",
              "    80% {\n",
              "      border-color: transparent;\n",
              "      border-right-color: var(--fill-color);\n",
              "      border-bottom-color: var(--fill-color);\n",
              "    }\n",
              "    90% {\n",
              "      border-color: transparent;\n",
              "      border-bottom-color: var(--fill-color);\n",
              "    }\n",
              "  }\n",
              "</style>\n",
              "\n",
              "      <script>\n",
              "        async function quickchart(key) {\n",
              "          const quickchartButtonEl =\n",
              "            document.querySelector('#' + key + ' button');\n",
              "          quickchartButtonEl.disabled = true;  // To prevent multiple clicks.\n",
              "          quickchartButtonEl.classList.add('colab-df-spinner');\n",
              "          try {\n",
              "            const charts = await google.colab.kernel.invokeFunction(\n",
              "                'suggestCharts', [key], {});\n",
              "          } catch (error) {\n",
              "            console.error('Error during call to suggestCharts:', error);\n",
              "          }\n",
              "          quickchartButtonEl.classList.remove('colab-df-spinner');\n",
              "          quickchartButtonEl.classList.add('colab-df-quickchart-complete');\n",
              "        }\n",
              "        (() => {\n",
              "          let quickchartButtonEl =\n",
              "            document.querySelector('#df-eb417596-3ba4-487b-b842-ce62586a1c2a button');\n",
              "          quickchartButtonEl.style.display =\n",
              "            google.colab.kernel.accessAllowed ? 'block' : 'none';\n",
              "        })();\n",
              "      </script>\n",
              "    </div>\n",
              "\n",
              "    </div>\n",
              "  </div>\n"
            ],
            "application/vnd.google.colaboratory.intrinsic+json": {
              "type": "dataframe",
              "variable_name": "df_true",
              "summary": "{\n  \"name\": \"df_true\",\n  \"rows\": 21417,\n  \"fields\": [\n    {\n      \"column\": \"title\",\n      \"properties\": {\n        \"dtype\": \"string\",\n        \"num_unique_values\": 20826,\n        \"samples\": [\n          \"German, Turkish foreign ministers meet after detainee released\",\n          \"Kremlin calls North Korea's latest missile launch another 'provocation'\",\n          \"Transgender soldiers, veterans shaken by Trump's ban on their service\"\n        ],\n        \"semantic_type\": \"\",\n        \"description\": \"\"\n      }\n    },\n    {\n      \"column\": \"text\",\n      \"properties\": {\n        \"dtype\": \"string\",\n        \"num_unique_values\": 21192,\n        \"samples\": [\n          \"WASHINGTON (Reuters) - A majority of the U.S. Senate on Tuesday backed a new round of disaster aid to help Puerto Rico and several states recover from damage from hurricanes and wildfires. The legislation would provide $36.5 billion in emergency relief as Puerto Rico in particular struggles to regain electricity and other basic services following destructive hurricanes. The House of Representatives approved the bill earlier this month. The Trump administration already has indicated it will seek another round of emergency relief from Congress. \",\n          \"BUDAPEST (Reuters) - About a thousand Hungarians protested on Friday against a crackdown on the main opposition party Jobbik which has been  threatened by a record political campaign fine that the party leader describes as a  death sentence  for democracy. Despite the gloomy rhetoric and Jobbik saying it was fighting for survival, support for the demonstration was well down on other similar rallies over the past year. Hungarians will vote for a new parliament in April and Prime Minister Viktor Orban s conservative, anti-migrant Fidesz party is far ahead in the polls, with Jobbik its nearest rival. Jobbik, once on the far right, has turned toward the center in a bid to attract more support and is now campaigning nationwide against Orban, depicting him as the leader of a criminal gang. Orban, rejecting the charges, says his financial standing is  an open book . Last week the state audit office (ASZ) ruled Jobbik had bought political posters far below market prices, breaching rules on political funding, then it slapped a 663 million forint ($2.5 million) penalty on the party. The protesters, waving Jobbik flags and posters deriding the ruling elite, gathered outside the headquarters of Orban s Fidesz party.  What we see unfolding is not an audit office investigation. It is not an official penalty. This is a death sentence with Jobbik s name on it. But in reality, it is a death sentence for Hungarian democracy,  Jobbiik leader Gabor Vona told the crowd. A government spokesman could not comment immediately on his remarks. ASZ chairman Laszlo Domokos is a former Fidesz lawmaker, whom Jobbik and other critics accuse of making decisions in favor of Orban. The audit office denies that. On Friday, ASZ again called on Jobbik to submit information that would challenge its findings, saying it acted fully within its rights throughout the probe. The ruling Fidesz party and the government have denied any involvement in the ASZ probe.  This case has nothing to do with the election campaign,  Orban aide Janos Lazar said on Thursday. For over a year Fidesz has targeted Jobbik, whose move to the center could upend the longstanding status quo of a dominant Fidesz with weaker opponents to its left and its right, said analyst Zoltan Novak at the Centre for Fair Political Analysis. Gyorgy Illes, a 67-year-old pensioner attending the rally, said he used to be a Socialist supporter but got disillusioned as the party struggled to overcome its internal divisions.  This ASZ probe is a clear sign that Orban is way past any remedy. It is a ruthless attack on everything we hold dear. Democracy, the rule of law, equality, you name it,  he said. \",\n          \"BEIJING/TAIPEI (Reuters) - China accused the United States on Thursday of interfering in its internal affairs and said it had lodged a complaint after U.S. President Donald Trump signed into law an act laying the groundwork for possible U.S. navy visits to self-ruled Taiwan. Tensions have risen in recent days after a senior Chinese diplomat threatened China would invade Taiwan if any U.S. warships made port visits to the island which China claims as its own territory. On Monday, Chinese jets carried out  island encirclement patrols  around Taiwan, with state media showing pictures of bombers with cruise missiles slung under their wings as they carried out the exercise. On Tuesday, Trump signed into law the National Defense Authorization Act for the 2018 fiscal year, which authorizes the possibility of mutual visits by navy vessels between Taiwan and the United States. Such visits would be the first since the United States ended formal diplomatic relations with Taiwan in 1979 and established ties with Beijing. Chinese Foreign Ministry spokesman Lu Kang said while the Taiwan sections of the law were not legally binding, they seriously violate the  One China  policy and  constitute an interference in China s internal affairs .   China is resolutely opposed to this, and we have already lodged stern representations with the U.S. government,  Lu told a daily news briefing. China is firmly opposed to any official exchanges, military contact, or arms sales between Taiwan and the United States, he added.  Proudly democratic Taiwan has become increasingly concerned with the ramped up Chinese military presence, that has included several rounds of Chinese air force drills around the island in recent months.  Taiwan is confident of its defenses and responded quickly to the Chinese air force drills this week, its government said, denouncing the rise in China s military deployments as irresponsible. Taiwan presidential spokesman Alex Huang, speaking to Taiwan media in comments reported late on Wednesday, said the defense ministry had kept a close watch on the patrols and responded immediately and properly. Taiwan  can ensure there are no concerns at all about national security, and people can rest assured , Huang said. Both sides of the narrow Taiwan Strait, which separates Taiwan from its giant neighbor, have a responsibility to protect peace and stability, he added.  Such a raised military posture that may impact upon and harm regional peace and stability and cross-strait ties does not give a feeling of responsibility, and the international community does not look favorably upon this,  Huang was quoted as saying. Relations have soured considerably since Tsai Ing-wen, who leads Taiwan s independence-leaning Democratic Progressive Party, won presidential elections last year. China suspects Tsai wants to declare the island s formal independence, a red line for Beijing. Tsai says she wants to maintain peace with China but will defend Taiwan s security. Taiwan is well equipped with mostly U.S. weapons but has been pressing for more advanced equipment to deal with what it sees as a rising threat from China. The United States is bound by law to provide the island with the means to defend itself. China has never renounced the use of force to bring Taiwan under its control. \"\n        ],\n        \"semantic_type\": \"\",\n        \"description\": \"\"\n      }\n    },\n    {\n      \"column\": \"subject\",\n      \"properties\": {\n        \"dtype\": \"category\",\n        \"num_unique_values\": 2,\n        \"samples\": [\n          \"worldnews\",\n          \"politicsNews\"\n        ],\n        \"semantic_type\": \"\",\n        \"description\": \"\"\n      }\n    },\n    {\n      \"column\": \"date\",\n      \"properties\": {\n        \"dtype\": \"object\",\n        \"num_unique_values\": 716,\n        \"samples\": [\n          \"September 2, 2017 \",\n          \"February 2, 2017 \"\n        ],\n        \"semantic_type\": \"\",\n        \"description\": \"\"\n      }\n    }\n  ]\n}"
            }
          },
          "metadata": {},
          "execution_count": 5
        }
      ]
    },
    {
      "cell_type": "markdown",
      "source": [
        "# Step 2  Clean Data (Missing Values & Duplicates)\n"
      ],
      "metadata": {
        "id": "zNaSlm4bnVhL"
      }
    },
    {
      "cell_type": "code",
      "source": [
        "print(\"df_true info\")\n",
        "df_true.info()\n",
        "print('---------------------------------')\n",
        "print('check null')\n",
        "print(df_true.isnull().sum())\n",
        "print('\\n================================\\n')\n",
        "\n",
        "print(\"df_fake info\")\n",
        "df_fake.info()\n",
        "print('---------------------------------')\n",
        "print('check null')\n",
        "print(df_fake.isnull().sum())"
      ],
      "metadata": {
        "colab": {
          "base_uri": "https://localhost:8080/"
        },
        "id": "iZl2bAFhnwsO",
        "outputId": "866dcc90-1299-4056-f2a5-afaa8f5e6e00"
      },
      "execution_count": null,
      "outputs": [
        {
          "output_type": "stream",
          "name": "stdout",
          "text": [
            "df_true info\n",
            "<class 'pandas.core.frame.DataFrame'>\n",
            "RangeIndex: 21417 entries, 0 to 21416\n",
            "Data columns (total 4 columns):\n",
            " #   Column   Non-Null Count  Dtype \n",
            "---  ------   --------------  ----- \n",
            " 0   title    21417 non-null  object\n",
            " 1   text     21417 non-null  object\n",
            " 2   subject  21417 non-null  object\n",
            " 3   date     21417 non-null  object\n",
            "dtypes: object(4)\n",
            "memory usage: 669.4+ KB\n",
            "---------------------------------\n",
            "check null\n",
            "title      0\n",
            "text       0\n",
            "subject    0\n",
            "date       0\n",
            "dtype: int64\n",
            "\n",
            "================================\n",
            "\n",
            "df_fake info\n",
            "<class 'pandas.core.frame.DataFrame'>\n",
            "RangeIndex: 23481 entries, 0 to 23480\n",
            "Data columns (total 4 columns):\n",
            " #   Column   Non-Null Count  Dtype \n",
            "---  ------   --------------  ----- \n",
            " 0   title    23481 non-null  object\n",
            " 1   text     23481 non-null  object\n",
            " 2   subject  23481 non-null  object\n",
            " 3   date     23481 non-null  object\n",
            "dtypes: object(4)\n",
            "memory usage: 733.9+ KB\n",
            "---------------------------------\n",
            "check null\n",
            "title      0\n",
            "text       0\n",
            "subject    0\n",
            "date       0\n",
            "dtype: int64\n"
          ]
        }
      ]
    },
    {
      "cell_type": "code",
      "source": [
        "# Check duplicates\n",
        "# Count duplicate rows in df_true\n",
        "true_dup_count = df_true.duplicated().sum()\n",
        "print(f\"df_true has {true_dup_count} duplicate rows\")\n",
        "\n",
        "# Remove duplicates\n",
        "df_true = df_true.drop_duplicates()\n",
        "print(f\"df_true shape after removing duplicates: {df_true.shape}\")\n",
        "\n",
        "print('\\n================================\\n')\n",
        "\n",
        "# count duplicate rows in df_fake\n",
        "fake_dup_count = df_fake.duplicated().sum()\n",
        "print(f\"df_fake has {fake_dup_count} duplicate rows\")\n",
        "\n",
        "# Remove duplicates\n",
        "df_fake = df_fake.drop_duplicates()\n",
        "print(f\"df_fake shape after removing duplicates: {df_fake.shape}\")"
      ],
      "metadata": {
        "colab": {
          "base_uri": "https://localhost:8080/"
        },
        "id": "R0aSgkzfpcEG",
        "outputId": "aa3c8a2b-45d3-4629-d9a2-2b8a3b58d4f5"
      },
      "execution_count": null,
      "outputs": [
        {
          "output_type": "stream",
          "name": "stdout",
          "text": [
            "df_true has 206 duplicate rows\n",
            "df_true shape after removing duplicates: (21211, 4)\n",
            "\n",
            "================================\n",
            "\n",
            "df_fake has 3 duplicate rows\n",
            "df_fake shape after removing duplicates: (23478, 4)\n"
          ]
        }
      ]
    },
    {
      "cell_type": "markdown",
      "source": [
        "# Step 3 :  Add Labels\n",
        "We’ll assign:\n",
        "\n",
        "1 → Fake news\n",
        "\n",
        "0 → Real news\n"
      ],
      "metadata": {
        "id": "I0hVSfqkYKkc"
      }
    },
    {
      "cell_type": "code",
      "source": [
        "df_fake[\"label\"] = 1  # Fake\n",
        "df_true[\"label\"] = 0  # Real"
      ],
      "metadata": {
        "id": "rXZXu36LW9lC"
      },
      "execution_count": null,
      "outputs": []
    },
    {
      "cell_type": "markdown",
      "source": [
        "# Step 4 : Split Each Dataset (90/10)\n",
        "Since the ISOT dataset contains two separate CSV files for real and fake news, we need to split each of them into training and testing sets before combining them. This ensures that both train and test sets have a balanced number of real and fake news articles.\n",
        "We’ll take 90% of the data from each file for training and 10% for testing, using the same random seed to keep results reproducible."
      ],
      "metadata": {
        "id": "PlVfMi6eZ6j3"
      }
    },
    {
      "cell_type": "code",
      "source": [
        "from sklearn.model_selection import train_test_split\n",
        "# Split real news\n",
        "train_true, test_true = train_test_split(df_true, test_size=0.1, random_state=42, shuffle=True)\n",
        "\n",
        "# Split fake news\n",
        "train_fake, test_fake = train_test_split(df_fake, test_size=0.1, random_state=42, shuffle=True)"
      ],
      "metadata": {
        "id": "qWc-1ccaZ92V"
      },
      "execution_count": null,
      "outputs": []
    },
    {
      "cell_type": "markdown",
      "source": [
        "# Step 5 : Combine Train and Test Sets\n",
        "Here main aim is to create train and test dataset"
      ],
      "metadata": {
        "id": "t0iA_vlhbZTG"
      }
    },
    {
      "cell_type": "code",
      "source": [
        "# Combine training data\n",
        "train_df = pd.concat([train_true, train_fake], axis=0).sample(frac=1, random_state=42).reset_index(drop=True)\n",
        "# Combine testing data\n",
        "test_df = pd.concat([test_true, test_fake], axis=0).sample(frac=1, random_state=42).reset_index(drop=True)"
      ],
      "metadata": {
        "id": "M2Sn09LTbR_w"
      },
      "execution_count": null,
      "outputs": []
    },
    {
      "cell_type": "markdown",
      "source": [
        "# Visualizations"
      ],
      "metadata": {
        "id": "Wba7mo49gS1B"
      }
    },
    {
      "cell_type": "code",
      "source": [
        "import seaborn as sns\n",
        "import matplotlib.pyplot as plt\n",
        "%matplotlib inline"
      ],
      "metadata": {
        "id": "kI7GXUVMfWhr"
      },
      "execution_count": null,
      "outputs": []
    },
    {
      "cell_type": "code",
      "source": [
        "# Label Distribution\n",
        "plt.figure(figsize=(6,4))\n",
        "sns.countplot(x=\"label\", data=train_df)\n",
        "plt.xlabel(\"Label\")\n",
        "plt.ylabel(\"Frequency\")\n",
        "plt.title(\"Fake vs Real News Distribution (Train Set)\")\n",
        "plt.show()"
      ],
      "metadata": {
        "colab": {
          "base_uri": "https://localhost:8080/",
          "height": 410
        },
        "id": "VSVR0nGAcUVU",
        "outputId": "deead4ed-c77d-4797-af06-688b03d45a79"
      },
      "execution_count": null,
      "outputs": [
        {
          "output_type": "display_data",
          "data": {
            "text/plain": [
              "<Figure size 600x400 with 1 Axes>"
            ],
            "image/png": "[encoded data removed]"
          },
          "metadata": {}
        }
      ]
    },
    {
      "cell_type": "code",
      "source": [
        "plt.figure(figsize=(10, 6))  # Adjust figure size\n",
        "plt.title('Distribution of Subjects in Training Data')\n",
        "sns.countplot(data=train_df, x='subject', palette='viridis')\n",
        "plt.xticks(rotation=45)\n",
        "plt.show()"
      ],
      "metadata": {
        "colab": {
          "base_uri": "https://localhost:8080/",
          "height": 610
        },
        "id": "slxrMBFaeVNw",
        "outputId": "b741cde2-f0d5-47a9-db51-3ba9fba436a0"
      },
      "execution_count": null,
      "outputs": [
        {
          "output_type": "stream",
          "name": "stderr",
          "text": [
            "/tmp/ipython-input-1844324588.py:3: FutureWarning: \n",
            "\n",
            "Passing `palette` without assigning `hue` is deprecated and will be removed in v0.14.0. Assign the `x` variable to `hue` and set `legend=False` for the same effect.\n",
            "\n",
            "  sns.countplot(data=train_df, x='subject', palette='viridis')\n"
          ]
        },
        {
          "output_type": "display_data",
          "data": {
            "text/plain": [
              "<Figure size 1000x600 with 1 Axes>"
            ],
            "image/png": "[encoded data removed]"
          },
          "metadata": {}
        }
      ]
    },
    {
      "cell_type": "markdown",
      "source": [
        "# Step 6 :  Drop Irrelevant Columns\n",
        "title + text → merged into one field for classification\n",
        "\n",
        "Drop subject and date (unless you want to do temporal analysis)"
      ],
      "metadata": {
        "id": "b0SpY5aJjMip"
      }
    },
    {
      "cell_type": "code",
      "source": [
        "# For train set\n",
        "train_df[\"content\"] = train_df[\"title\"] + \" \" + train_df[\"text\"]\n",
        "train_df = train_df[[\"content\", \"label\"]]\n",
        "\n",
        "# For test set\n",
        "test_df[\"content\"] = test_df[\"title\"] + \" \" + test_df[\"text\"]\n",
        "test_df = test_df[[\"content\", \"label\"]]"
      ],
      "metadata": {
        "id": "xk0AHf50jbsh"
      },
      "execution_count": null,
      "outputs": []
    },
    {
      "cell_type": "code",
      "source": [
        "train_df.head()"
      ],
      "metadata": {
        "colab": {
          "base_uri": "https://localhost:8080/",
          "height": 206
        },
        "id": "U8J1z5iwj19F",
        "outputId": "02e6a99b-29bd-46d9-e237-ac63cc56b009"
      },
      "execution_count": null,
      "outputs": [
        {
          "output_type": "execute_result",
          "data": {
            "text/plain": [
              "                                             content  label\n",
              "0  SARAH HUCKABEE SANDERS MOCKS WH PRESS: Lists A...      1\n",
              "1  THIS IS RICH! COMMIE NYC MAYOR UNLEASHES CLASS...      1\n",
              "2  BREAKING: SECRET SERVICE Takes Action After Wh...      1\n",
              "3  France to discuss possible new Rafale sale wit...      0\n",
              "4  France says pressure needed to stop North Kore...      0"
            ],
            "text/html": [
              "\n",
              "  <div id=\"df-bc783112-8d7a-4e7c-a208-56254499a9b5\" class=\"colab-df-container\">\n",
              "    <div>\n",
              "<style scoped>\n",
              "    .dataframe tbody tr th:only-of-type {\n",
              "        vertical-align: middle;\n",
              "    }\n",
              "\n",
              "    .dataframe tbody tr th {\n",
              "        vertical-align: top;\n",
              "    }\n",
              "\n",
              "    .dataframe thead th {\n",
              "        text-align: right;\n",
              "    }\n",
              "</style>\n",
              "<table border=\"1\" class=\"dataframe\">\n",
              "  <thead>\n",
              "    <tr style=\"text-align: right;\">\n",
              "      <th></th>\n",
              "      <th>content</th>\n",
              "      <th>label</th>\n",
              "    </tr>\n",
              "  </thead>\n",
              "  <tbody>\n",
              "    <tr>\n",
              "      <th>0</th>\n",
              "      <td>SARAH HUCKABEE SANDERS MOCKS WH PRESS: Lists A...</td>\n",
              "      <td>1</td>\n",
              "    </tr>\n",
              "    <tr>\n",
              "      <th>1</th>\n",
              "      <td>THIS IS RICH! COMMIE NYC MAYOR UNLEASHES CLASS...</td>\n",
              "      <td>1</td>\n",
              "    </tr>\n",
              "    <tr>\n",
              "      <th>2</th>\n",
              "      <td>BREAKING: SECRET SERVICE Takes Action After Wh...</td>\n",
              "      <td>1</td>\n",
              "    </tr>\n",
              "    <tr>\n",
              "      <th>3</th>\n",
              "      <td>France to discuss possible new Rafale sale wit...</td>\n",
              "      <td>0</td>\n",
              "    </tr>\n",
              "    <tr>\n",
              "      <th>4</th>\n",
              "      <td>France says pressure needed to stop North Kore...</td>\n",
              "      <td>0</td>\n",
              "    </tr>\n",
              "  </tbody>\n",
              "</table>\n",
              "</div>\n",
              "    <div class=\"colab-df-buttons\">\n",
              "\n",
              "  <div class=\"colab-df-container\">\n",
              "    <button class=\"colab-df-convert\" onclick=\"convertToInteractive('df-bc783112-8d7a-4e7c-a208-56254499a9b5')\"\n",
              "            title=\"Convert this dataframe to an interactive table.\"\n",
              "            style=\"display:none;\">\n",
              "\n",
              "  <svg xmlns=\"http://www.w3.org/2000/svg\" height=\"24px\" viewBox=\"0 -960 960 960\">\n",
              "    <path d=\"M120-120v-720h720v720H120Zm60-500h600v-160H180v160Zm220 220h160v-160H400v160Zm0 220h160v-160H400v160ZM180-400h160v-160H180v160Zm440 0h160v-160H620v160ZM180-180h160v-160H180v160Zm440 0h160v-160H620v160Z\"/>\n",
              "  </svg>\n",
              "    </button>\n",
              "\n",
              "  <style>\n",
              "    .colab-df-container {\n",
              "      display:flex;\n",
              "      gap: 12px;\n",
              "    }\n",
              "\n",
              "    .colab-df-convert {\n",
              "      background-color: #E8F0FE;\n",
              "      border: none;\n",
              "      border-radius: 50%;\n",
              "      cursor: pointer;\n",
              "      display: none;\n",
              "      fill: #1967D2;\n",
              "      height: 32px;\n",
              "      padding: 0 0 0 0;\n",
              "      width: 32px;\n",
              "    }\n",
              "\n",
              "    .colab-df-convert:hover {\n",
              "      background-color: #E2EBFA;\n",
              "      box-shadow: 0px 1px 2px rgba(60, 64, 67, 0.3), 0px 1px 3px 1px rgba(60, 64, 67, 0.15);\n",
              "      fill: #174EA6;\n",
              "    }\n",
              "\n",
              "    .colab-df-buttons div {\n",
              "      margin-bottom: 4px;\n",
              "    }\n",
              "\n",
              "    [theme=dark] .colab-df-convert {\n",
              "      background-color: #3B4455;\n",
              "      fill: #D2E3FC;\n",
              "    }\n",
              "\n",
              "    [theme=dark] .colab-df-convert:hover {\n",
              "      background-color: #434B5C;\n",
              "      box-shadow: 0px 1px 3px 1px rgba(0, 0, 0, 0.15);\n",
              "      filter: drop-shadow(0px 1px 2px rgba(0, 0, 0, 0.3));\n",
              "      fill: #FFFFFF;\n",
              "    }\n",
              "  </style>\n",
              "\n",
              "    <script>\n",
              "      const buttonEl =\n",
              "        document.querySelector('#df-bc783112-8d7a-4e7c-a208-56254499a9b5 button.colab-df-convert');\n",
              "      buttonEl.style.display =\n",
              "        google.colab.kernel.accessAllowed ? 'block' : 'none';\n",
              "\n",
              "      async function convertToInteractive(key) {\n",
              "        const element = document.querySelector('#df-bc783112-8d7a-4e7c-a208-56254499a9b5');\n",
              "        const dataTable =\n",
              "          await google.colab.kernel.invokeFunction('convertToInteractive',\n",
              "                                                    [key], {});\n",
              "        if (!dataTable) return;\n",
              "\n",
              "        const docLinkHtml = 'Like what you see? Visit the ' +\n",
              "          '<a target=\"_blank\" href=https://colab.research.google.com/notebooks/data_table.ipynb>data table notebook</a>'\n",
              "          + ' to learn more about interactive tables.';\n",
              "        element.innerHTML = '';\n",
              "        dataTable['output_type'] = 'display_data';\n",
              "        await google.colab.output.renderOutput(dataTable, element);\n",
              "        const docLink = document.createElement('div');\n",
              "        docLink.innerHTML = docLinkHtml;\n",
              "        element.appendChild(docLink);\n",
              "      }\n",
              "    </script>\n",
              "  </div>\n",
              "\n",
              "\n",
              "    <div id=\"df-e12a732f-7b1e-4973-ab36-c52c5fed7a45\">\n",
              "      <button class=\"colab-df-quickchart\" onclick=\"quickchart('df-e12a732f-7b1e-4973-ab36-c52c5fed7a45')\"\n",
              "                title=\"Suggest charts\"\n",
              "                style=\"display:none;\">\n",
              "\n",
              "<svg xmlns=\"http://www.w3.org/2000/svg\" height=\"24px\"viewBox=\"0 0 24 24\"\n",
              "     width=\"24px\">\n",
              "    <g>\n",
              "        <path d=\"M19 3H5c-1.1 0-2 .9-2 2v14c0 1.1.9 2 2 2h14c1.1 0 2-.9 2-2V5c0-1.1-.9-2-2-2zM9 17H7v-7h2v7zm4 0h-2V7h2v10zm4 0h-2v-4h2v4z\"/>\n",
              "    </g>\n",
              "</svg>\n",
              "      </button>\n",
              "\n",
              "<style>\n",
              "  .colab-df-quickchart {\n",
              "      --bg-color: #E8F0FE;\n",
              "      --fill-color: #1967D2;\n",
              "      --hover-bg-color: #E2EBFA;\n",
              "      --hover-fill-color: #174EA6;\n",
              "      --disabled-fill-color: #AAA;\n",
              "      --disabled-bg-color: #DDD;\n",
              "  }\n",
              "\n",
              "  [theme=dark] .colab-df-quickchart {\n",
              "      --bg-color: #3B4455;\n",
              "      --fill-color: #D2E3FC;\n",
              "      --hover-bg-color: #434B5C;\n",
              "      --hover-fill-color: #FFFFFF;\n",
              "      --disabled-bg-color: #3B4455;\n",
              "      --disabled-fill-color: #666;\n",
              "  }\n",
              "\n",
              "  .colab-df-quickchart {\n",
              "    background-color: var(--bg-color);\n",
              "    border: none;\n",
              "    border-radius: 50%;\n",
              "    cursor: pointer;\n",
              "    display: none;\n",
              "    fill: var(--fill-color);\n",
              "    height: 32px;\n",
              "    padding: 0;\n",
              "    width: 32px;\n",
              "  }\n",
              "\n",
              "  .colab-df-quickchart:hover {\n",
              "    background-color: var(--hover-bg-color);\n",
              "    box-shadow: 0 1px 2px rgba(60, 64, 67, 0.3), 0 1px 3px 1px rgba(60, 64, 67, 0.15);\n",
              "    fill: var(--button-hover-fill-color);\n",
              "  }\n",
              "\n",
              "  .colab-df-quickchart-complete:disabled,\n",
              "  .colab-df-quickchart-complete:disabled:hover {\n",
              "    background-color: var(--disabled-bg-color);\n",
              "    fill: var(--disabled-fill-color);\n",
              "    box-shadow: none;\n",
              "  }\n",
              "\n",
              "  .colab-df-spinner {\n",
              "    border: 2px solid var(--fill-color);\n",
              "    border-color: transparent;\n",
              "    border-bottom-color: var(--fill-color);\n",
              "    animation:\n",
              "      spin 1s steps(1) infinite;\n",
              "  }\n",
              "\n",
              "  @keyframes spin {\n",
              "    0% {\n",
              "      border-color: transparent;\n",
              "      border-bottom-color: var(--fill-color);\n",
              "      border-left-color: var(--fill-color);\n",
              "    }\n",
              "    20% {\n",
              "      border-color: transparent;\n",
              "      border-left-color: var(--fill-color);\n",
              "      border-top-color: var(--fill-color);\n",
              "    }\n",
              "    30% {\n",
              "      border-color: transparent;\n",
              "      border-left-color: var(--fill-color);\n",
              "      border-top-color: var(--fill-color);\n",
              "      border-right-color: var(--fill-color);\n",
              "    }\n",
              "    40% {\n",
              "      border-color: transparent;\n",
              "      border-right-color: var(--fill-color);\n",
              "      border-top-color: var(--fill-color);\n",
              "    }\n",
              "    60% {\n",
              "      border-color: transparent;\n",
              "      border-right-color: var(--fill-color);\n",
              "    }\n",
              "    80% {\n",
              "      border-color: transparent;\n",
              "      border-right-color: var(--fill-color);\n",
              "      border-bottom-color: var(--fill-color);\n",
              "    }\n",
              "    90% {\n",
              "      border-color: transparent;\n",
              "      border-bottom-color: var(--fill-color);\n",
              "    }\n",
              "  }\n",
              "</style>\n",
              "\n",
              "      <script>\n",
              "        async function quickchart(key) {\n",
              "          const quickchartButtonEl =\n",
              "            document.querySelector('#' + key + ' button');\n",
              "          quickchartButtonEl.disabled = true;  // To prevent multiple clicks.\n",
              "          quickchartButtonEl.classList.add('colab-df-spinner');\n",
              "          try {\n",
              "            const charts = await google.colab.kernel.invokeFunction(\n",
              "                'suggestCharts', [key], {});\n",
              "          } catch (error) {\n",
              "            console.error('Error during call to suggestCharts:', error);\n",
              "          }\n",
              "          quickchartButtonEl.classList.remove('colab-df-spinner');\n",
              "          quickchartButtonEl.classList.add('colab-df-quickchart-complete');\n",
              "        }\n",
              "        (() => {\n",
              "          let quickchartButtonEl =\n",
              "            document.querySelector('#df-e12a732f-7b1e-4973-ab36-c52c5fed7a45 button');\n",
              "          quickchartButtonEl.style.display =\n",
              "            google.colab.kernel.accessAllowed ? 'block' : 'none';\n",
              "        })();\n",
              "      </script>\n",
              "    </div>\n",
              "\n",
              "    </div>\n",
              "  </div>\n"
            ],
            "application/vnd.google.colaboratory.intrinsic+json": {
              "type": "dataframe",
              "variable_name": "train_df",
              "summary": "{\n  \"name\": \"train_df\",\n  \"rows\": 40219,\n  \"fields\": [\n    {\n      \"column\": \"content\",\n      \"properties\": {\n        \"dtype\": \"string\",\n        \"num_unique_values\": 35658,\n        \"samples\": [\n          \"Democrats protest Senate Republican healthcare secrecy WASHINGTON (Reuters) - U.S. Democrats took to the Senate floor on Monday to throw a spotlight on behind-the-scenes efforts by the Republican majority to repeal former President Barack Obama\\u2019s healthcare law, known as Obamacare. In a series of floor motions, inquiries and lengthy speeches, Democrats criticized the closed-door meetings that Republicans have been holding to craft a replacement for Obamacare, formally known as the Affordable Care Act. They called for open committee hearings and more time to consider the bill before a Senate vote, which Republicans say could come in the next two weeks, although a draft bill has yet to emerge publicly. Lacking the votes to derail or change the Republican process, the maneuvers by the Democratic minority seemed more aimed at highlighting Republican efforts on a controversial issue. Polls have said that a majority of Americans disapprove of the Obamacare replacement that has passed the House of Representatives and that Senate Republicans are now considering. Senate Democratic Leader Chuck Schumer said that the closed-door Republican meetings on healthcare amounted to \\u201cthe most glaring departure from normal legislative procedure that I have ever seen.\\u201d  \\u201cRepublicans are writing their healthcare bill under the cover of darkness because they are ashamed of it,\\u201d Schumer charged. The resulting legislation would likely throw millions out of health insurance, he said, while granting \\u201ca big fat tax break for the wealthiest among us.\\u201d Senators are not obligated to hold meetings in the open, but Democrats pointed out that there were lengthy committee meetings and many days of floor debate on Obamacare before it passed in 2010. Several Democrats moved for the healthcare legislation to be referred to Senate committees for hearings, but Senate Majority Leader Mitch McConnell refused. McConnell said all Republican senators have been involved to some degree in healthcare meetings and that Democrats would have a chance to amend the legislation they produce, once it is brought to the Senate floor. \\u201cWe\\u2019re going to have a meeting on the Senate floor, all hundred of us, with an unlimited amendment process,\\u201d McConnell said. \\u201cSo there will be no failure of opportunity.\\u201d Senate Republican leaders would like a vote on healthcare legislation in July, before the July 4 recess if possible. But Republicans have struggled to coalesce around a bill, with moderates and conservatives pushing in different directions. Senate Republicans also face pressure from the right. In the House, conservatives have written to McConnell to express concern about reports that say the Senate may water down the House bill. \",\n          \"Trump's pick to lead health agency calls EpiPen issue 'disturbing' WASHINGTON (Reuters) - U.S. President Donald Trump\\u2019s choice to lead an important health agency said on Thursday that the way pharmaceutical companies classify products as generic or branded needs to be reviewed in order to help hold down government spending, as she cited Mylan NV\\u2019s EpiPen emergency allergy treatment.  Seema Verma, Trump\\u2019s nominee to lead the Centers for Medicare and Medicaid Services (CMS), did not answer questions about whether the U.S. government should negotiate with pharmaceutical companies over drug prices. \\u201cI think what happened with ... the EpiPen issue is very disturbing,\\u201d Verma said at her confirmation hearing before the Senate Finance Committee. \\u201cThe idea that perhaps Medicaid programs, which are struggling to pay for those programs, that they could have potentially received rebates is disturbing to me.\\u201d  Mylan\\u00a0has been criticized for listing EpiPen\\u00a0with Medicaid as a generic product even though it listed it with the Food and Drug Administration as a branded product. The classification led to Mylan\\u2019s paying significantly smaller rebates to the Medicaid healthcare program for the poor than if EpiPen were classified as branded. \\u201cI would like to review the processes in place there, in terms of the classifications, in terms of brand and generic, to ensure that type of thing doesn\\u2019t happen again,\\u201d Verma said. CMS said last year that it had \\u201cexpressly advised\\u201d Mylan that the drugmaker had improperly classified EpiPen. Mylan said last month that U.S. antitrust authorities had launched an investigation into EpiPen. The company said suggestions it took any inappropriate or unlawful actions to prevent generic competition was \\u201cwithout merit.\\u201d Mylan has also come under fire for raising the price of a two-pack of EpiPens to $600 last summer from $100 in 2008. Mylan began selling a generic version of EpiPen for $300 per two-pack in December. Verma also said she would produce records of communication between the agency and Mylan, when questioned by Republican Senator Chuck Grassley. A statement from Grassley\\u2019s office said Mylan had overcharged states and taxpayers by \\u201cpotentially hundreds of millions of dollars.\\u201d  Democrats were not pleased with Verma\\u2019s sidestepping a question from Senator Debbie Stabenow about whether she agreed with Trump that the government should negotiate with drug companies over prices of drugs covered by the Medicare healthcare program for the elderly and disabled. \\u201cI don\\u2019t think that\\u2019s a simple yes or no answer,\\u201d Verma said. \\u201cThe goal is to make sure that we\\u2019re getting affordable prices for our seniors.\\u201d  \",\n          \"Trump says will be putting more sanctions on North Korea NEW YORK (Reuters) - President Donald Trump said on Thursday the United States would be adding more sanctions on North Korea. Tensions have escalated in recent weeks over Pyongyang\\u2019s missile and nuclear weapons program, despite intense pressure from world powers. \\u201cWe will be putting more sanctions on North Korea,\\u201d Trump said in response to a question at a meeting with Afghan president Ashraf Ghani. On Afghanistan, Trump said the U.S. military was doing more leading than fighting. \"\n        ],\n        \"semantic_type\": \"\",\n        \"description\": \"\"\n      }\n    },\n    {\n      \"column\": \"label\",\n      \"properties\": {\n        \"dtype\": \"number\",\n        \"std\": 0,\n        \"min\": 0,\n        \"max\": 1,\n        \"num_unique_values\": 2,\n        \"samples\": [\n          0,\n          1\n        ],\n        \"semantic_type\": \"\",\n        \"description\": \"\"\n      }\n    }\n  ]\n}"
            }
          },
          "metadata": {},
          "execution_count": 12
        }
      ]
    },
    {
      "cell_type": "markdown",
      "source": [
        "# Step 7 : Text Preprocessing\n",
        "Recommended preprocessing pipeline (for LSTM)\n",
        "1. Expand contractions\n",
        "2. Lowercase\n",
        "3. Remove HTML tags and URLs\n",
        "4. Normalize whitespace\n",
        "5. Tokenize (word-level) — yes, you should tokenise for stopword removal & lemmatization\n",
        "6. (Optional) Spelling correction — careful: slow, may mangle named entities; do it only if you really need it\n",
        "7. Remove punctuation\n",
        "8. Lemmatize using from nltk.stem import WordNetLemmatizer\n",
        "9. Remove stopwords\n"
      ],
      "metadata": {
        "id": "UUl7IGskjQyk"
      }
    },
    {
      "cell_type": "markdown",
      "source": [
        "####Recommendation : customise stop words\n",
        "Instead of blindly using the default stopwords list, customize it by removing negation words from the stopword set.\n",
        "\n",
        "removing words like \"not\", \"cannot\", \"never\", and other negations can absolutely change the meaning of the text.\n",
        "\n",
        "Example:\n",
        "\n",
        "\"I am happy\" vs \"I am not happy\" — removing not flips the sentiment entirely.\n",
        "\n",
        "Here’s a list of negations & related words you should keep in your text:\n"
      ],
      "metadata": {
        "id": "HfrLec7Xhcir"
      }
    },
    {
      "cell_type": "code",
      "source": [
        "import nltk\n",
        "nltk.download('stopwords')\n",
        "from nltk.corpus import stopwords\n",
        "\n",
        "stop_words = set(stopwords.words(\"english\"))\n",
        "negations_to_keep = {\"not\", \"no\", \"nor\", \"never\", \"cannot\", \"without\", \"can\", \"do\"}\n",
        "\n",
        "# Remove negations from stopwords\n",
        "stop_words = stop_words - negations_to_keep"
      ],
      "metadata": {
        "colab": {
          "base_uri": "https://localhost:8080/"
        },
        "collapsed": true,
        "id": "EF6WpHSZifIP",
        "outputId": "651f1f6d-f11b-4d65-d9bd-9a4f55100924"
      },
      "execution_count": null,
      "outputs": [
        {
          "output_type": "stream",
          "name": "stderr",
          "text": [
            "[nltk_data] Downloading package stopwords to /root/nltk_data...\n",
            "[nltk_data]   Unzipping corpora/stopwords.zip.\n"
          ]
        }
      ]
    },
    {
      "cell_type": "code",
      "source": [
        "!pip install contractions"
      ],
      "metadata": {
        "colab": {
          "base_uri": "https://localhost:8080/"
        },
        "id": "koVuJJYnzNyl",
        "outputId": "1dd5c8c0-8054-4b9b-a4ee-bc451fc1b241",
        "collapsed": true
      },
      "execution_count": null,
      "outputs": [
        {
          "output_type": "stream",
          "name": "stdout",
          "text": [
            "Collecting contractions\n",
            "  Downloading contractions-0.1.73-py2.py3-none-any.whl.metadata (1.2 kB)\n",
            "Collecting textsearch>=0.0.21 (from contractions)\n",
            "  Downloading textsearch-0.0.24-py2.py3-none-any.whl.metadata (1.2 kB)\n",
            "Collecting anyascii (from textsearch>=0.0.21->contractions)\n",
            "  Downloading anyascii-0.3.3-py3-none-any.whl.metadata (1.6 kB)\n",
            "Collecting pyahocorasick (from textsearch>=0.0.21->contractions)\n",
            "  Downloading pyahocorasick-2.2.0-cp311-cp311-manylinux_2_17_x86_64.manylinux2014_x86_64.whl.metadata (13 kB)\n",
            "Downloading contractions-0.1.73-py2.py3-none-any.whl (8.7 kB)\n",
            "Downloading textsearch-0.0.24-py2.py3-none-any.whl (7.6 kB)\n",
            "Downloading anyascii-0.3.3-py3-none-any.whl (345 kB)\n",
            "\u001b[2K   \u001b[90m━━━━━━━━━━━━━━━━━━━━━━━━━━━━━━━━━━━━━━━━\u001b[0m \u001b[32m345.1/345.1 kB\u001b[0m \u001b[31m21.0 MB/s\u001b[0m eta \u001b[36m0:00:00\u001b[0m\n",
            "\u001b[?25hDownloading pyahocorasick-2.2.0-cp311-cp311-manylinux_2_17_x86_64.manylinux2014_x86_64.whl (113 kB)\n",
            "\u001b[2K   \u001b[90m━━━━━━━━━━━━━━━━━━━━━━━━━━━━━━━━━━━━━━━━\u001b[0m \u001b[32m113.9/113.9 kB\u001b[0m \u001b[31m10.4 MB/s\u001b[0m eta \u001b[36m0:00:00\u001b[0m\n",
            "\u001b[?25hInstalling collected packages: pyahocorasick, anyascii, textsearch, contractions\n",
            "Successfully installed anyascii-0.3.3 contractions-0.1.73 pyahocorasick-2.2.0 textsearch-0.0.24\n"
          ]
        }
      ]
    },
    {
      "cell_type": "code",
      "source": [
        "import re\n",
        "import string\n",
        "from nltk.stem import WordNetLemmatizer\n",
        "from nltk.tokenize import word_tokenize\n",
        "from textblob import TextBlob\n",
        "import contractions\n",
        "\n",
        "nltk.download('punkt_tab')\n",
        "nltk.download('wordnet')\n",
        "\n",
        "lemmatizer = WordNetLemmatizer()\n",
        "\n",
        "def clean_text_lstm(text, spelling_correction=False):\n",
        "    # 1: Expand contractions\n",
        "    text = contractions.fix(text)\n",
        "    # 2. Lowercase\n",
        "    text = str(text).lower()\n",
        "    # 3. Remove HTML tags and URLs\n",
        "    text = re.sub(r\"<.*?>\", \"\", text)               # HTML tags\n",
        "    text = re.sub(r'http\\S+|www\\S+', '', text)      # URLs\n",
        "    # 4. Normalize whitespace\n",
        "    text = re.sub(r'\\s+', ' ', text).strip()\n",
        "    # 5. Tokenize (word-level)\n",
        "    tokens = word_tokenize(text)\n",
        "    # 6. Optional: Spelling correction\n",
        "    if spelling_correction:\n",
        "        tokens = [str(TextBlob(word).correct()) for word in tokens]\n",
        "    # 7. Remove punctuation\n",
        "    tokens = [word for word in tokens if word not in string.punctuation]\n",
        "    # 8. Lemmatize, Remove stopwords, Join tokens back\n",
        "    tokens = [lemmatizer.lemmatize(word)\n",
        "             for word in tokens if word not in stop_words]\n",
        "    return \" \".join(tokens)"
      ],
      "metadata": {
        "colab": {
          "base_uri": "https://localhost:8080/"
        },
        "id": "xp_WsVn53VlN",
        "outputId": "4405ec1a-e5c4-4fd3-b8c8-ec52c084c690",
        "collapsed": true
      },
      "execution_count": null,
      "outputs": [
        {
          "output_type": "stream",
          "name": "stderr",
          "text": [
            "[nltk_data] Downloading package punkt_tab to /root/nltk_data...\n",
            "[nltk_data]   Unzipping tokenizers/punkt_tab.zip.\n",
            "[nltk_data] Downloading package wordnet to /root/nltk_data...\n"
          ]
        }
      ]
    },
    {
      "cell_type": "markdown",
      "source": [
        "### Apply text preprocessing function for lstm\n"
      ],
      "metadata": {
        "id": "NPiGCmxjDb4C"
      }
    },
    {
      "cell_type": "code",
      "source": [
        "train_df[\"clean_content\"] = train_df[\"content\"].apply(clean_text_lstm)\n",
        "test_df[\"clean_content\"]  = test_df[\"content\"].apply(clean_text_lstm)"
      ],
      "metadata": {
        "id": "a7fMYFiNDZkb"
      },
      "execution_count": null,
      "outputs": []
    },
    {
      "cell_type": "code",
      "source": [
        "train_df.head()"
      ],
      "metadata": {
        "colab": {
          "base_uri": "https://localhost:8080/",
          "height": 293
        },
        "id": "1RtVnNYFFSb6",
        "outputId": "0a38c69a-394b-4f13-edd6-4259e472bb78"
      },
      "execution_count": null,
      "outputs": [
        {
          "output_type": "execute_result",
          "data": {
            "text/plain": [
              "                                             content  label  \\\n",
              "0  SARAH HUCKABEE SANDERS MOCKS WH PRESS: Lists A...      1   \n",
              "1  THIS IS RICH! COMMIE NYC MAYOR UNLEASHES CLASS...      1   \n",
              "2  BREAKING: SECRET SERVICE Takes Action After Wh...      1   \n",
              "3  France to discuss possible new Rafale sale wit...      0   \n",
              "4  France says pressure needed to stop North Kore...      0   \n",
              "\n",
              "                                       clean_content  \n",
              "0  sarah huckabee sander mock wh press list clint...  \n",
              "1  rich commie nyc mayor unleashes class war scot...  \n",
              "2  breaking secret service take action white hous...  \n",
              "3  france discus possible new rafale sale egypt '...  \n",
              "4  france say pressure needed stop north korea cr...  "
            ],
            "text/html": [
              "\n",
              "  <div id=\"df-55904b99-d163-4dbf-8292-6d461b598c0b\" class=\"colab-df-container\">\n",
              "    <div>\n",
              "<style scoped>\n",
              "    .dataframe tbody tr th:only-of-type {\n",
              "        vertical-align: middle;\n",
              "    }\n",
              "\n",
              "    .dataframe tbody tr th {\n",
              "        vertical-align: top;\n",
              "    }\n",
              "\n",
              "    .dataframe thead th {\n",
              "        text-align: right;\n",
              "    }\n",
              "</style>\n",
              "<table border=\"1\" class=\"dataframe\">\n",
              "  <thead>\n",
              "    <tr style=\"text-align: right;\">\n",
              "      <th></th>\n",
              "      <th>content</th>\n",
              "      <th>label</th>\n",
              "      <th>clean_content</th>\n",
              "    </tr>\n",
              "  </thead>\n",
              "  <tbody>\n",
              "    <tr>\n",
              "      <th>0</th>\n",
              "      <td>SARAH HUCKABEE SANDERS MOCKS WH PRESS: Lists A...</td>\n",
              "      <td>1</td>\n",
              "      <td>sarah huckabee sander mock wh press list clint...</td>\n",
              "    </tr>\n",
              "    <tr>\n",
              "      <th>1</th>\n",
              "      <td>THIS IS RICH! COMMIE NYC MAYOR UNLEASHES CLASS...</td>\n",
              "      <td>1</td>\n",
              "      <td>rich commie nyc mayor unleashes class war scot...</td>\n",
              "    </tr>\n",
              "    <tr>\n",
              "      <th>2</th>\n",
              "      <td>BREAKING: SECRET SERVICE Takes Action After Wh...</td>\n",
              "      <td>1</td>\n",
              "      <td>breaking secret service take action white hous...</td>\n",
              "    </tr>\n",
              "    <tr>\n",
              "      <th>3</th>\n",
              "      <td>France to discuss possible new Rafale sale wit...</td>\n",
              "      <td>0</td>\n",
              "      <td>france discus possible new rafale sale egypt '...</td>\n",
              "    </tr>\n",
              "    <tr>\n",
              "      <th>4</th>\n",
              "      <td>France says pressure needed to stop North Kore...</td>\n",
              "      <td>0</td>\n",
              "      <td>france say pressure needed stop north korea cr...</td>\n",
              "    </tr>\n",
              "  </tbody>\n",
              "</table>\n",
              "</div>\n",
              "    <div class=\"colab-df-buttons\">\n",
              "\n",
              "  <div class=\"colab-df-container\">\n",
              "    <button class=\"colab-df-convert\" onclick=\"convertToInteractive('df-55904b99-d163-4dbf-8292-6d461b598c0b')\"\n",
              "            title=\"Convert this dataframe to an interactive table.\"\n",
              "            style=\"display:none;\">\n",
              "\n",
              "  <svg xmlns=\"http://www.w3.org/2000/svg\" height=\"24px\" viewBox=\"0 -960 960 960\">\n",
              "    <path d=\"M120-120v-720h720v720H120Zm60-500h600v-160H180v160Zm220 220h160v-160H400v160Zm0 220h160v-160H400v160ZM180-400h160v-160H180v160Zm440 0h160v-160H620v160ZM180-180h160v-160H180v160Zm440 0h160v-160H620v160Z\"/>\n",
              "  </svg>\n",
              "    </button>\n",
              "\n",
              "  <style>\n",
              "    .colab-df-container {\n",
              "      display:flex;\n",
              "      gap: 12px;\n",
              "    }\n",
              "\n",
              "    .colab-df-convert {\n",
              "      background-color: #E8F0FE;\n",
              "      border: none;\n",
              "      border-radius: 50%;\n",
              "      cursor: pointer;\n",
              "      display: none;\n",
              "      fill: #1967D2;\n",
              "      height: 32px;\n",
              "      padding: 0 0 0 0;\n",
              "      width: 32px;\n",
              "    }\n",
              "\n",
              "    .colab-df-convert:hover {\n",
              "      background-color: #E2EBFA;\n",
              "      box-shadow: 0px 1px 2px rgba(60, 64, 67, 0.3), 0px 1px 3px 1px rgba(60, 64, 67, 0.15);\n",
              "      fill: #174EA6;\n",
              "    }\n",
              "\n",
              "    .colab-df-buttons div {\n",
              "      margin-bottom: 4px;\n",
              "    }\n",
              "\n",
              "    [theme=dark] .colab-df-convert {\n",
              "      background-color: #3B4455;\n",
              "      fill: #D2E3FC;\n",
              "    }\n",
              "\n",
              "    [theme=dark] .colab-df-convert:hover {\n",
              "      background-color: #434B5C;\n",
              "      box-shadow: 0px 1px 3px 1px rgba(0, 0, 0, 0.15);\n",
              "      filter: drop-shadow(0px 1px 2px rgba(0, 0, 0, 0.3));\n",
              "      fill: #FFFFFF;\n",
              "    }\n",
              "  </style>\n",
              "\n",
              "    <script>\n",
              "      const buttonEl =\n",
              "        document.querySelector('#df-55904b99-d163-4dbf-8292-6d461b598c0b button.colab-df-convert');\n",
              "      buttonEl.style.display =\n",
              "        google.colab.kernel.accessAllowed ? 'block' : 'none';\n",
              "\n",
              "      async function convertToInteractive(key) {\n",
              "        const element = document.querySelector('#df-55904b99-d163-4dbf-8292-6d461b598c0b');\n",
              "        const dataTable =\n",
              "          await google.colab.kernel.invokeFunction('convertToInteractive',\n",
              "                                                    [key], {});\n",
              "        if (!dataTable) return;\n",
              "\n",
              "        const docLinkHtml = 'Like what you see? Visit the ' +\n",
              "          '<a target=\"_blank\" href=https://colab.research.google.com/notebooks/data_table.ipynb>data table notebook</a>'\n",
              "          + ' to learn more about interactive tables.';\n",
              "        element.innerHTML = '';\n",
              "        dataTable['output_type'] = 'display_data';\n",
              "        await google.colab.output.renderOutput(dataTable, element);\n",
              "        const docLink = document.createElement('div');\n",
              "        docLink.innerHTML = docLinkHtml;\n",
              "        element.appendChild(docLink);\n",
              "      }\n",
              "    </script>\n",
              "  </div>\n",
              "\n",
              "\n",
              "    <div id=\"df-fc726eed-aa59-49e1-8a64-6c02b7d74451\">\n",
              "      <button class=\"colab-df-quickchart\" onclick=\"quickchart('df-fc726eed-aa59-49e1-8a64-6c02b7d74451')\"\n",
              "                title=\"Suggest charts\"\n",
              "                style=\"display:none;\">\n",
              "\n",
              "<svg xmlns=\"http://www.w3.org/2000/svg\" height=\"24px\"viewBox=\"0 0 24 24\"\n",
              "     width=\"24px\">\n",
              "    <g>\n",
              "        <path d=\"M19 3H5c-1.1 0-2 .9-2 2v14c0 1.1.9 2 2 2h14c1.1 0 2-.9 2-2V5c0-1.1-.9-2-2-2zM9 17H7v-7h2v7zm4 0h-2V7h2v10zm4 0h-2v-4h2v4z\"/>\n",
              "    </g>\n",
              "</svg>\n",
              "      </button>\n",
              "\n",
              "<style>\n",
              "  .colab-df-quickchart {\n",
              "      --bg-color: #E8F0FE;\n",
              "      --fill-color: #1967D2;\n",
              "      --hover-bg-color: #E2EBFA;\n",
              "      --hover-fill-color: #174EA6;\n",
              "      --disabled-fill-color: #AAA;\n",
              "      --disabled-bg-color: #DDD;\n",
              "  }\n",
              "\n",
              "  [theme=dark] .colab-df-quickchart {\n",
              "      --bg-color: #3B4455;\n",
              "      --fill-color: #D2E3FC;\n",
              "      --hover-bg-color: #434B5C;\n",
              "      --hover-fill-color: #FFFFFF;\n",
              "      --disabled-bg-color: #3B4455;\n",
              "      --disabled-fill-color: #666;\n",
              "  }\n",
              "\n",
              "  .colab-df-quickchart {\n",
              "    background-color: var(--bg-color);\n",
              "    border: none;\n",
              "    border-radius: 50%;\n",
              "    cursor: pointer;\n",
              "    display: none;\n",
              "    fill: var(--fill-color);\n",
              "    height: 32px;\n",
              "    padding: 0;\n",
              "    width: 32px;\n",
              "  }\n",
              "\n",
              "  .colab-df-quickchart:hover {\n",
              "    background-color: var(--hover-bg-color);\n",
              "    box-shadow: 0 1px 2px rgba(60, 64, 67, 0.3), 0 1px 3px 1px rgba(60, 64, 67, 0.15);\n",
              "    fill: var(--button-hover-fill-color);\n",
              "  }\n",
              "\n",
              "  .colab-df-quickchart-complete:disabled,\n",
              "  .colab-df-quickchart-complete:disabled:hover {\n",
              "    background-color: var(--disabled-bg-color);\n",
              "    fill: var(--disabled-fill-color);\n",
              "    box-shadow: none;\n",
              "  }\n",
              "\n",
              "  .colab-df-spinner {\n",
              "    border: 2px solid var(--fill-color);\n",
              "    border-color: transparent;\n",
              "    border-bottom-color: var(--fill-color);\n",
              "    animation:\n",
              "      spin 1s steps(1) infinite;\n",
              "  }\n",
              "\n",
              "  @keyframes spin {\n",
              "    0% {\n",
              "      border-color: transparent;\n",
              "      border-bottom-color: var(--fill-color);\n",
              "      border-left-color: var(--fill-color);\n",
              "    }\n",
              "    20% {\n",
              "      border-color: transparent;\n",
              "      border-left-color: var(--fill-color);\n",
              "      border-top-color: var(--fill-color);\n",
              "    }\n",
              "    30% {\n",
              "      border-color: transparent;\n",
              "      border-left-color: var(--fill-color);\n",
              "      border-top-color: var(--fill-color);\n",
              "      border-right-color: var(--fill-color);\n",
              "    }\n",
              "    40% {\n",
              "      border-color: transparent;\n",
              "      border-right-color: var(--fill-color);\n",
              "      border-top-color: var(--fill-color);\n",
              "    }\n",
              "    60% {\n",
              "      border-color: transparent;\n",
              "      border-right-color: var(--fill-color);\n",
              "    }\n",
              "    80% {\n",
              "      border-color: transparent;\n",
              "      border-right-color: var(--fill-color);\n",
              "      border-bottom-color: var(--fill-color);\n",
              "    }\n",
              "    90% {\n",
              "      border-color: transparent;\n",
              "      border-bottom-color: var(--fill-color);\n",
              "    }\n",
              "  }\n",
              "</style>\n",
              "\n",
              "      <script>\n",
              "        async function quickchart(key) {\n",
              "          const quickchartButtonEl =\n",
              "            document.querySelector('#' + key + ' button');\n",
              "          quickchartButtonEl.disabled = true;  // To prevent multiple clicks.\n",
              "          quickchartButtonEl.classList.add('colab-df-spinner');\n",
              "          try {\n",
              "            const charts = await google.colab.kernel.invokeFunction(\n",
              "                'suggestCharts', [key], {});\n",
              "          } catch (error) {\n",
              "            console.error('Error during call to suggestCharts:', error);\n",
              "          }\n",
              "          quickchartButtonEl.classList.remove('colab-df-spinner');\n",
              "          quickchartButtonEl.classList.add('colab-df-quickchart-complete');\n",
              "        }\n",
              "        (() => {\n",
              "          let quickchartButtonEl =\n",
              "            document.querySelector('#df-fc726eed-aa59-49e1-8a64-6c02b7d74451 button');\n",
              "          quickchartButtonEl.style.display =\n",
              "            google.colab.kernel.accessAllowed ? 'block' : 'none';\n",
              "        })();\n",
              "      </script>\n",
              "    </div>\n",
              "\n",
              "    </div>\n",
              "  </div>\n"
            ],
            "application/vnd.google.colaboratory.intrinsic+json": {
              "type": "dataframe",
              "variable_name": "train_df",
              "summary": "{\n  \"name\": \"train_df\",\n  \"rows\": 40219,\n  \"fields\": [\n    {\n      \"column\": \"content\",\n      \"properties\": {\n        \"dtype\": \"string\",\n        \"num_unique_values\": 35658,\n        \"samples\": [\n          \"Democrats protest Senate Republican healthcare secrecy WASHINGTON (Reuters) - U.S. Democrats took to the Senate floor on Monday to throw a spotlight on behind-the-scenes efforts by the Republican majority to repeal former President Barack Obama\\u2019s healthcare law, known as Obamacare. In a series of floor motions, inquiries and lengthy speeches, Democrats criticized the closed-door meetings that Republicans have been holding to craft a replacement for Obamacare, formally known as the Affordable Care Act. They called for open committee hearings and more time to consider the bill before a Senate vote, which Republicans say could come in the next two weeks, although a draft bill has yet to emerge publicly. Lacking the votes to derail or change the Republican process, the maneuvers by the Democratic minority seemed more aimed at highlighting Republican efforts on a controversial issue. Polls have said that a majority of Americans disapprove of the Obamacare replacement that has passed the House of Representatives and that Senate Republicans are now considering. Senate Democratic Leader Chuck Schumer said that the closed-door Republican meetings on healthcare amounted to \\u201cthe most glaring departure from normal legislative procedure that I have ever seen.\\u201d  \\u201cRepublicans are writing their healthcare bill under the cover of darkness because they are ashamed of it,\\u201d Schumer charged. The resulting legislation would likely throw millions out of health insurance, he said, while granting \\u201ca big fat tax break for the wealthiest among us.\\u201d Senators are not obligated to hold meetings in the open, but Democrats pointed out that there were lengthy committee meetings and many days of floor debate on Obamacare before it passed in 2010. Several Democrats moved for the healthcare legislation to be referred to Senate committees for hearings, but Senate Majority Leader Mitch McConnell refused. McConnell said all Republican senators have been involved to some degree in healthcare meetings and that Democrats would have a chance to amend the legislation they produce, once it is brought to the Senate floor. \\u201cWe\\u2019re going to have a meeting on the Senate floor, all hundred of us, with an unlimited amendment process,\\u201d McConnell said. \\u201cSo there will be no failure of opportunity.\\u201d Senate Republican leaders would like a vote on healthcare legislation in July, before the July 4 recess if possible. But Republicans have struggled to coalesce around a bill, with moderates and conservatives pushing in different directions. Senate Republicans also face pressure from the right. In the House, conservatives have written to McConnell to express concern about reports that say the Senate may water down the House bill. \",\n          \"Trump's pick to lead health agency calls EpiPen issue 'disturbing' WASHINGTON (Reuters) - U.S. President Donald Trump\\u2019s choice to lead an important health agency said on Thursday that the way pharmaceutical companies classify products as generic or branded needs to be reviewed in order to help hold down government spending, as she cited Mylan NV\\u2019s EpiPen emergency allergy treatment.  Seema Verma, Trump\\u2019s nominee to lead the Centers for Medicare and Medicaid Services (CMS), did not answer questions about whether the U.S. government should negotiate with pharmaceutical companies over drug prices. \\u201cI think what happened with ... the EpiPen issue is very disturbing,\\u201d Verma said at her confirmation hearing before the Senate Finance Committee. \\u201cThe idea that perhaps Medicaid programs, which are struggling to pay for those programs, that they could have potentially received rebates is disturbing to me.\\u201d  Mylan\\u00a0has been criticized for listing EpiPen\\u00a0with Medicaid as a generic product even though it listed it with the Food and Drug Administration as a branded product. The classification led to Mylan\\u2019s paying significantly smaller rebates to the Medicaid healthcare program for the poor than if EpiPen were classified as branded. \\u201cI would like to review the processes in place there, in terms of the classifications, in terms of brand and generic, to ensure that type of thing doesn\\u2019t happen again,\\u201d Verma said. CMS said last year that it had \\u201cexpressly advised\\u201d Mylan that the drugmaker had improperly classified EpiPen. Mylan said last month that U.S. antitrust authorities had launched an investigation into EpiPen. The company said suggestions it took any inappropriate or unlawful actions to prevent generic competition was \\u201cwithout merit.\\u201d Mylan has also come under fire for raising the price of a two-pack of EpiPens to $600 last summer from $100 in 2008. Mylan began selling a generic version of EpiPen for $300 per two-pack in December. Verma also said she would produce records of communication between the agency and Mylan, when questioned by Republican Senator Chuck Grassley. A statement from Grassley\\u2019s office said Mylan had overcharged states and taxpayers by \\u201cpotentially hundreds of millions of dollars.\\u201d  Democrats were not pleased with Verma\\u2019s sidestepping a question from Senator Debbie Stabenow about whether she agreed with Trump that the government should negotiate with drug companies over prices of drugs covered by the Medicare healthcare program for the elderly and disabled. \\u201cI don\\u2019t think that\\u2019s a simple yes or no answer,\\u201d Verma said. \\u201cThe goal is to make sure that we\\u2019re getting affordable prices for our seniors.\\u201d  \",\n          \"Trump says will be putting more sanctions on North Korea NEW YORK (Reuters) - President Donald Trump said on Thursday the United States would be adding more sanctions on North Korea. Tensions have escalated in recent weeks over Pyongyang\\u2019s missile and nuclear weapons program, despite intense pressure from world powers. \\u201cWe will be putting more sanctions on North Korea,\\u201d Trump said in response to a question at a meeting with Afghan president Ashraf Ghani. On Afghanistan, Trump said the U.S. military was doing more leading than fighting. \"\n        ],\n        \"semantic_type\": \"\",\n        \"description\": \"\"\n      }\n    },\n    {\n      \"column\": \"label\",\n      \"properties\": {\n        \"dtype\": \"number\",\n        \"std\": 0,\n        \"min\": 0,\n        \"max\": 1,\n        \"num_unique_values\": 2,\n        \"samples\": [\n          0,\n          1\n        ],\n        \"semantic_type\": \"\",\n        \"description\": \"\"\n      }\n    },\n    {\n      \"column\": \"clean_content\",\n      \"properties\": {\n        \"dtype\": \"string\",\n        \"num_unique_values\": 35649,\n        \"samples\": [\n          \"donald trump could running greatest scam american history donald trump like promote shrewd businessman many done business man cheated lied to.while people illusion trump honesty integrity closer look campaign finance scheme suggests may running enormous scam us.from time trump announced entering race republican presidential nomination trump telling supporter campaign mostly self-financed.that true not true.donald may want people think multi-billionaire addicting info report actual net worth estimated much lower.as turn trump self-financing campaign lending money february trump campaign loan totaling 17.5 million 70 percent money campaign brought date.as graph sunlight foundation show trump actually given little campaign.image credit sunlight foundationdetails term loan appear well-kept secret hard imagine profiteer like donald trump not charging interest 17.5 million loans.then revelation trump campaign spending large sum money trump owned businesses.as daily beast report time entered race close 2015 campaign paid 2 million tag air inc.trump owns commercial-sized plane boeing 757-200 equipped safely transport 43 passenger seat belt plated 24-carat gold although might prefer sit dining room one two bedroom shower might prefer travel smaller jet one two helicopter .his aircraft ferry around country new york de moines manchester biloxi steep cost.steep right bill ran 500,000 single day june 2015.there also huge bill paid trump owned restaurant like trump cafe trump grill trump restaurant llc got 74,000 own.the campaign paid rent utility trump tower commercial llc along in-kind rent donald j. trump trump cps llc trump plaza llc.the daily beast also report trump even company manage payroll trump payroll corp. trump tower commercial llc ten thousand dollar regularly funneled landing pocket well-compensated staff.campaign finance law bar candidate profiting campaigns.yet least one fec expert told daily beast trump financial scam unprecedented.according paul ryan campaign legal center sort strange gray area law think fec ever addressed olivia nuzzi daily beast report trump profit say sale 15 ivanka salad ryan said would technical violation fec law make sense violation matter word money begin recirculated back pocket throughout course campaign trump vowed first presidential candidate make profit campaign.back february new york time reported may closer anyone realizes.but end donald trump campaign may little costly political commentary shady way corporate america functions.if trump expert anything privatizing profit transferring loss onto you.s taxpayers.he filed multiple bankruptcy many fact according cnn money trump casino empire surpasses every major you.s company come number bankruptcy filed past 30 years.the idea trump could walk away presidential bid million dollar profit leaving taxpayer holding bill not far-fetched especially given expertise world shady corporate finance.image credit gage skidmore\",\n          \"delusional obama divided america become least not civil war video turn not divided people make u really\"\n        ],\n        \"semantic_type\": \"\",\n        \"description\": \"\"\n      }\n    }\n  ]\n}"
            }
          },
          "metadata": {},
          "execution_count": 17
        }
      ]
    },
    {
      "cell_type": "markdown",
      "source": [
        "##Clear point-by-point summary of the issues we faced and the exact solutions we applied in our preprocessing code:\n",
        "\n",
        "#### 1.Contraction Splitting Problem\n",
        "\n",
        "  During tokenization, contractions like \"can't\" and \"it's\" were split into:\n",
        "\n",
        "  - \"ca\", \"n't\"\n",
        "\n",
        "  - \"it\", \"'s\"\n",
        "\n",
        "Solution:\n",
        "\n",
        "text = contractions.fix(text)\n",
        "\n",
        "This expands contractions before tokenization:\n",
        "\n",
        "  - \"can't\" → \"cannot\"\n",
        "\n",
        "  - \"it's\" → \"it is\"\n",
        "\n",
        "#### 2.Tokenization Splitting Negations\n",
        "\n",
        "Even after contraction expansion, some words like \"cannot\" were split into \"can\" and \"not\" during tokenization.\n",
        "\n",
        "  - This split could distort meaning (e.g., \"cannot go\" → \"can go\" if \"not\" gets removed).\n",
        "\n",
        "Solution:\n",
        "\n",
        "Handled by keeping negation words in the stopwords customization step"
      ],
      "metadata": {
        "id": "F8ccgQYN73T5"
      }
    },
    {
      "cell_type": "markdown",
      "source": [
        "##Step 7 : Preprocessing for BERT (Minimal)"
      ],
      "metadata": {
        "id": "ajGB89J2Cl9J"
      }
    },
    {
      "cell_type": "code",
      "source": [
        "def clean_text_bert(text):\n",
        "    # Lowercase + strip extra spaces\n",
        "    return str(text).strip().lower()"
      ],
      "metadata": {
        "id": "39lIsFZVCsQD"
      },
      "execution_count": null,
      "outputs": []
    },
    {
      "cell_type": "markdown",
      "source": [
        "#### Apply text preprocessing function for BERT"
      ],
      "metadata": {
        "id": "ZHms32iYFiL0"
      }
    },
    {
      "cell_type": "code",
      "source": [
        "train_df[\"bert_content\"] = train_df[\"content\"].apply(clean_text_bert)\n",
        "test_df[\"bert_content\"]  = test_df[\"content\"].apply(clean_text_bert)"
      ],
      "metadata": {
        "id": "-iLo6Y5q6bVU"
      },
      "execution_count": null,
      "outputs": []
    },
    {
      "cell_type": "code",
      "source": [
        "# Save processed train and test datasets\n",
        "train_df.to_csv(\"train_clean.csv\", index=False)\n",
        "test_df.to_csv(\"test_clean.csv\", index=False)"
      ],
      "metadata": {
        "id": "cBbnuFwRvWMJ"
      },
      "execution_count": null,
      "outputs": []
    },
    {
      "cell_type": "code",
      "source": [
        "from google.colab import files\n",
        "\n",
        "files.download(\"train_clean.csv\")\n",
        "files.download(\"test_clean.csv\")\n"
      ],
      "metadata": {
        "colab": {
          "base_uri": "https://localhost:8080/",
          "height": 17
        },
        "id": "ozRJ7vLW-2Ng",
        "outputId": "4c7cfd72-a900-4609-9819-cddad8225f68"
      },
      "execution_count": null,
      "outputs": [
        {
          "output_type": "display_data",
          "data": {
            "text/plain": [
              "<IPython.core.display.Javascript object>"
            ],
            "application/javascript": [
              "\n",
              "    async function download(id, filename, size) {\n",
              "      if (!google.colab.kernel.accessAllowed) {\n",
              "        return;\n",
              "      }\n",
              "      const div = document.createElement('div');\n",
              "      const label = document.createElement('label');\n",
              "      label.textContent = `Downloading \"${filename}\": `;\n",
              "      div.appendChild(label);\n",
              "      const progress = document.createElement('progress');\n",
              "      progress.max = size;\n",
              "      div.appendChild(progress);\n",
              "      document.body.appendChild(div);\n",
              "\n",
              "      const buffers = [];\n",
              "      let downloaded = 0;\n",
              "\n",
              "      const channel = await google.colab.kernel.comms.open(id);\n",
              "      // Send a message to notify the kernel that we're ready.\n",
              "      channel.send({})\n",
              "\n",
              "      for await (const message of channel.messages) {\n",
              "        // Send a message to notify the kernel that we're ready.\n",
              "        channel.send({})\n",
              "        if (message.buffers) {\n",
              "          for (const buffer of message.buffers) {\n",
              "            buffers.push(buffer);\n",
              "            downloaded += buffer.byteLength;\n",
              "            progress.value = downloaded;\n",
              "          }\n",
              "        }\n",
              "      }\n",
              "      const blob = new Blob(buffers, {type: 'application/binary'});\n",
              "      const a = document.createElement('a');\n",
              "      a.href = window.URL.createObjectURL(blob);\n",
              "      a.download = filename;\n",
              "      div.appendChild(a);\n",
              "      a.click();\n",
              "      div.remove();\n",
              "    }\n",
              "  "
            ]
          },
          "metadata": {}
        },
        {
          "output_type": "display_data",
          "data": {
            "text/plain": [
              "<IPython.core.display.Javascript object>"
            ],
            "application/javascript": [
              "download(\"download_89ea795e-fc0b-46fa-af3d-f7d0af694f76\", \"train_clean.csv\", 280143561)"
            ]
          },
          "metadata": {}
        },
        {
          "output_type": "display_data",
          "data": {
            "text/plain": [
              "<IPython.core.display.Javascript object>"
            ],
            "application/javascript": [
              "\n",
              "    async function download(id, filename, size) {\n",
              "      if (!google.colab.kernel.accessAllowed) {\n",
              "        return;\n",
              "      }\n",
              "      const div = document.createElement('div');\n",
              "      const label = document.createElement('label');\n",
              "      label.textContent = `Downloading \"${filename}\": `;\n",
              "      div.appendChild(label);\n",
              "      const progress = document.createElement('progress');\n",
              "      progress.max = size;\n",
              "      div.appendChild(progress);\n",
              "      document.body.appendChild(div);\n",
              "\n",
              "      const buffers = [];\n",
              "      let downloaded = 0;\n",
              "\n",
              "      const channel = await google.colab.kernel.comms.open(id);\n",
              "      // Send a message to notify the kernel that we're ready.\n",
              "      channel.send({})\n",
              "\n",
              "      for await (const message of channel.messages) {\n",
              "        // Send a message to notify the kernel that we're ready.\n",
              "        channel.send({})\n",
              "        if (message.buffers) {\n",
              "          for (const buffer of message.buffers) {\n",
              "            buffers.push(buffer);\n",
              "            downloaded += buffer.byteLength;\n",
              "            progress.value = downloaded;\n",
              "          }\n",
              "        }\n",
              "      }\n",
              "      const blob = new Blob(buffers, {type: 'application/binary'});\n",
              "      const a = document.createElement('a');\n",
              "      a.href = window.URL.createObjectURL(blob);\n",
              "      a.download = filename;\n",
              "      div.appendChild(a);\n",
              "      a.click();\n",
              "      div.remove();\n",
              "    }\n",
              "  "
            ]
          },
          "metadata": {}
        },
        {
          "output_type": "display_data",
          "data": {
            "text/plain": [
              "<IPython.core.display.Javascript object>"
            ],
            "application/javascript": [
              "download(\"download_358dc7a5-788f-4b4e-b019-ca08aca6c247\", \"test_clean.csv\", 30508525)"
            ]
          },
          "metadata": {}
        }
      ]
    },
    {
      "cell_type": "markdown",
      "source": [
        "# Step-by-Step LSTM Preparation"
      ],
      "metadata": {
        "id": "bgPHCG1VTckd"
      }
    },
    {
      "cell_type": "markdown",
      "source": [
        "### Step 1 : Tokenize & Pad Sequences"
      ],
      "metadata": {
        "id": "V7YXST6RThaz"
      }
    },
    {
      "cell_type": "code",
      "source": [
        "# Unique words\n",
        "from collections import Counter\n",
        "word_counts = Counter(\" \".join(train_df[\"clean_content\"]).split())\n",
        "print(\"Unique words:\", len(word_counts))\n",
        "\n",
        "# Article length distribution\n",
        "article_lengths = train_df[\"clean_content\"].apply(lambda x: len(x.split()))\n",
        "print(article_lengths.describe())  # min, mean, median, max\n"
      ],
      "metadata": {
        "colab": {
          "base_uri": "https://localhost:8080/"
        },
        "id": "GpeUXwGxPh_6",
        "outputId": "aa38defa-f048-4193-d69b-50d8fb35d500"
      },
      "execution_count": null,
      "outputs": [
        {
          "output_type": "stream",
          "name": "stdout",
          "text": [
            "Unique words: 206739\n",
            "count    40219.000000\n",
            "mean       251.554713\n",
            "std        210.728229\n",
            "min          0.000000\n",
            "25%        131.000000\n",
            "50%        221.000000\n",
            "75%        312.000000\n",
            "max       4975.000000\n",
            "Name: clean_content, dtype: float64\n"
          ]
        }
      ]
    },
    {
      "cell_type": "markdown",
      "source": [
        "Summary:\n",
        "\n",
        "Set your MAX_SEQUENCE_LENGTH near the median (221) or 75th percentile (312) to balance:"
      ],
      "metadata": {
        "id": "VsSagdHhSVSS"
      }
    },
    {
      "cell_type": "code",
      "source": [
        "from tensorflow.keras.preprocessing.text import Tokenizer\n",
        "from tensorflow.keras.preprocessing.sequence import pad_sequences\n",
        "\n",
        "MAX_VOCAB_SIZE = 20000  # top words to keep\n",
        "MAX_SEQUENCE_LENGTH = 300  # max words per article\n",
        "\n",
        "# Tokenizer\n",
        "tokenizer = Tokenizer(num_words=MAX_VOCAB_SIZE, oov_token=\"<OOV>\")\n",
        "tokenizer.fit_on_texts(train_df[\"clean_content\"])\n",
        "\n",
        "# Convert to sequences\n",
        "X_train_seq = tokenizer.texts_to_sequences(train_df[\"clean_content\"])\n",
        "X_test_seq  = tokenizer.texts_to_sequences(test_df[\"clean_content\"])\n",
        "\n",
        "# Pad sequences\n",
        "X_train_pad = pad_sequences(X_train_seq, maxlen=MAX_SEQUENCE_LENGTH, padding=\"post\", truncating=\"post\")\n",
        "X_test_pad  = pad_sequences(X_test_seq, maxlen=MAX_SEQUENCE_LENGTH, padding=\"post\", truncating=\"post\")\n",
        "\n",
        "# Labels\n",
        "y_train = train_df[\"label\"].values\n",
        "y_test  = test_df[\"label\"].values\n"
      ],
      "metadata": {
        "id": "T2n1sYw-GYaZ"
      },
      "execution_count": null,
      "outputs": []
    },
    {
      "cell_type": "markdown",
      "source": [
        "Always save and load the exact same tokenizer"
      ],
      "metadata": {
        "id": "0B3uMqGpEqQV"
      }
    },
    {
      "cell_type": "code",
      "source": [
        "import pickle\n",
        "\n",
        "# After training\n",
        "with open(\"tokenizer.pkl\", \"wb\") as f:\n",
        "    pickle.dump(tokenizer, f)"
      ],
      "metadata": {
        "id": "PWAE5HNpE1-O"
      },
      "execution_count": null,
      "outputs": []
    },
    {
      "cell_type": "markdown",
      "source": [
        "### Step 2 : Load Word2Vec embeddings"
      ],
      "metadata": {
        "id": "7JnotG-Xi47j"
      }
    },
    {
      "cell_type": "markdown",
      "source": [
        "Option 1 (train on full tokenized sentences without filtering):"
      ],
      "metadata": {
        "id": "rbY-Mv5erEbd"
      }
    },
    {
      "cell_type": "code",
      "source": [
        "import gensim\n",
        "model_vec = gensim.models.Word2Vec(\n",
        "    sentences=train_df[\"clean_content\"].apply(lambda x: x.split()),\n",
        "    vector_size=300,\n",
        "    window=5,\n",
        "    min_count=1,\n",
        "    workers=4\n",
        ")"
      ],
      "metadata": {
        "id": "ZkOvqPaBj3Un"
      },
      "execution_count": null,
      "outputs": []
    },
    {
      "cell_type": "markdown",
      "source": [
        "Option 2 (train only on filtered top 20k words)"
      ],
      "metadata": {
        "id": "1bzqV07RrotP"
      }
    },
    {
      "cell_type": "code",
      "source": [
        "top_words = set(list(tokenizer.word_index.keys())[:MAX_VOCAB_SIZE])\n",
        "filtered_sentences = train_df[\"clean_content\"].apply(\n",
        "    lambda doc: [word for word in doc.split() if word in top_words]\n",
        ")\n",
        "\n",
        "model_vec2 = gensim.models.Word2Vec(\n",
        "    sentences=filtered_sentences,\n",
        "    vector_size=300,\n",
        "    window=5,\n",
        "    min_count=1,\n",
        "    workers=4\n",
        ")"
      ],
      "metadata": {
        "collapsed": true,
        "id": "FAnRkkpPc-Jb"
      },
      "execution_count": null,
      "outputs": []
    },
    {
      "cell_type": "markdown",
      "source": [
        "## Step 3 : Build embedding matrix\n"
      ],
      "metadata": {
        "id": "xHGEQ5lRym9x"
      }
    },
    {
      "cell_type": "code",
      "source": [
        "import numpy as np\n",
        "\n",
        "embedding_dim = 300\n",
        "word_index = tokenizer.word_index\n",
        "num_words = MAX_VOCAB_SIZE\n",
        "\n",
        "# For Option 1\n",
        "embedding_matrix_1 = np.zeros((num_words, embedding_dim))\n",
        "for word, i in word_index.items():\n",
        "    if i < num_words:\n",
        "        if word in model_vec.wv:\n",
        "            embedding_matrix_1[i] = model_vec.wv[word]\n",
        "\n",
        "# For Option 2\n",
        "embedding_matrix_2 = np.zeros((num_words, embedding_dim))\n",
        "for word, i in word_index.items():\n",
        "    if i < num_words:\n",
        "        if word in model_vec2.wv:\n",
        "            embedding_matrix_2[i] = model_vec2.wv[word]"
      ],
      "metadata": {
        "id": "QL4PRGIEUevt"
      },
      "execution_count": null,
      "outputs": []
    },
    {
      "cell_type": "markdown",
      "source": [
        "##Step 4 : Define LSTM model"
      ],
      "metadata": {
        "id": "jqlfBAHdykbY"
      }
    },
    {
      "cell_type": "code",
      "source": [
        "from tensorflow.keras.models import Sequential\n",
        "from tensorflow.keras.layers import Embedding, LSTM, Dense, Dropout\n",
        "\n",
        "def build_lstm_model(embedding_matrix):\n",
        "    model = Sequential()\n",
        "    model.add(Embedding(\n",
        "        input_dim=embedding_matrix.shape[0],\n",
        "        output_dim=embedding_matrix.shape[1],\n",
        "        weights=[embedding_matrix],\n",
        "        input_length=MAX_SEQUENCE_LENGTH,\n",
        "        trainable=False   # freeze embeddings first\n",
        "    ))\n",
        "    model.add(LSTM(128, dropout=0.2, recurrent_dropout=0.2))\n",
        "    model.add(Dense(1, activation='sigmoid'))\n",
        "\n",
        "    model.compile(loss='binary_crossentropy',\n",
        "                  optimizer='adam',\n",
        "                  metrics=['accuracy'])\n",
        "    return model\n"
      ],
      "metadata": {
        "id": "stC82v2CydW3"
      },
      "execution_count": null,
      "outputs": []
    },
    {
      "cell_type": "markdown",
      "source": [
        "##Step 4 : Train and compare\n"
      ],
      "metadata": {
        "id": "KkOi9Wguyg3x"
      }
    },
    {
      "cell_type": "code",
      "source": [
        "# Option 1 training\n",
        "model_1 = build_lstm_model(embedding_matrix_1)\n",
        "history_1 = model_1.fit(\n",
        "    X_train_pad, y_train,\n",
        "    validation_data=(X_test_pad, y_test),\n",
        "    epochs=5,\n",
        "    batch_size=64\n",
        ")\n",
        "\n",
        "# Option 2 training\n",
        "model_2 = build_lstm_model(embedding_matrix_2)\n",
        "history_2 = model_2.fit(\n",
        "    X_train_pad, y_train,\n",
        "    validation_data=(X_test_pad, y_test),\n",
        "    epochs=5,\n",
        "    batch_size=64\n",
        ")"
      ],
      "metadata": {
        "colab": {
          "base_uri": "https://localhost:8080/"
        },
        "id": "J4ag2jFLyfgy",
        "outputId": "56e6482f-cae7-4ce8-d12c-83afc0189d1b"
      },
      "execution_count": null,
      "outputs": [
        {
          "output_type": "stream",
          "name": "stderr",
          "text": [
            "/usr/local/lib/python3.11/dist-packages/keras/src/layers/core/embedding.py:97: UserWarning: Argument `input_length` is deprecated. Just remove it.\n",
            "  warnings.warn(\n"
          ]
        },
        {
          "output_type": "stream",
          "name": "stdout",
          "text": [
            "Epoch 1/5\n",
            "\u001b[1m629/629\u001b[0m \u001b[32m━━━━━━━━━━━━━━━━━━━━\u001b[0m\u001b[37m\u001b[0m \u001b[1m582s\u001b[0m 915ms/step - accuracy: 0.8768 - loss: 0.3214 - val_accuracy: 0.9602 - val_loss: 0.1599\n",
            "Epoch 2/5\n",
            "\u001b[1m629/629\u001b[0m \u001b[32m━━━━━━━━━━━━━━━━━━━━\u001b[0m\u001b[37m\u001b[0m \u001b[1m601s\u001b[0m 887ms/step - accuracy: 0.9460 - loss: 0.1783 - val_accuracy: 0.9761 - val_loss: 0.0934\n",
            "Epoch 3/5\n",
            "\u001b[1m629/629\u001b[0m \u001b[32m━━━━━━━━━━━━━━━━━━━━\u001b[0m\u001b[37m\u001b[0m \u001b[1m559s\u001b[0m 882ms/step - accuracy: 0.9756 - loss: 0.0856 - val_accuracy: 0.9911 - val_loss: 0.0302\n",
            "Epoch 4/5\n",
            "\u001b[1m629/629\u001b[0m \u001b[32m━━━━━━━━━━━━━━━━━━━━\u001b[0m\u001b[37m\u001b[0m \u001b[1m565s\u001b[0m 885ms/step - accuracy: 0.9869 - loss: 0.0443 - val_accuracy: 0.9436 - val_loss: 0.1941\n",
            "Epoch 5/5\n",
            "\u001b[1m629/629\u001b[0m \u001b[32m━━━━━━━━━━━━━━━━━━━━\u001b[0m\u001b[37m\u001b[0m \u001b[1m598s\u001b[0m 945ms/step - accuracy: 0.9721 - loss: 0.1035 - val_accuracy: 0.9953 - val_loss: 0.0130\n",
            "Epoch 1/5\n",
            "\u001b[1m629/629\u001b[0m \u001b[32m━━━━━━━━━━━━━━━━━━━━\u001b[0m\u001b[37m\u001b[0m \u001b[1m549s\u001b[0m 867ms/step - accuracy: 0.8668 - loss: 0.3333 - val_accuracy: 0.9002 - val_loss: 0.2788\n",
            "Epoch 2/5\n",
            "\u001b[1m629/629\u001b[0m \u001b[32m━━━━━━━━━━━━━━━━━━━━\u001b[0m\u001b[37m\u001b[0m \u001b[1m574s\u001b[0m 886ms/step - accuracy: 0.9368 - loss: 0.1786 - val_accuracy: 0.9830 - val_loss: 0.0569\n",
            "Epoch 3/5\n",
            "\u001b[1m629/629\u001b[0m \u001b[32m━━━━━━━━━━━━━━━━━━━━\u001b[0m\u001b[37m\u001b[0m \u001b[1m568s\u001b[0m 896ms/step - accuracy: 0.9812 - loss: 0.0625 - val_accuracy: 0.9908 - val_loss: 0.0315\n",
            "Epoch 4/5\n",
            "\u001b[1m629/629\u001b[0m \u001b[32m━━━━━━━━━━━━━━━━━━━━\u001b[0m\u001b[37m\u001b[0m \u001b[1m552s\u001b[0m 878ms/step - accuracy: 0.9908 - loss: 0.0317 - val_accuracy: 0.9973 - val_loss: 0.0093\n",
            "Epoch 5/5\n",
            "\u001b[1m629/629\u001b[0m \u001b[32m━━━━━━━━━━━━━━━━━━━━\u001b[0m\u001b[37m\u001b[0m \u001b[1m566s\u001b[0m 884ms/step - accuracy: 0.9958 - loss: 0.0151 - val_accuracy: 0.9982 - val_loss: 0.0047\n"
          ]
        }
      ]
    },
    {
      "cell_type": "markdown",
      "source": [
        "##Step 5 : Evaluate"
      ],
      "metadata": {
        "id": "rSwgaT5pz6Z3"
      }
    },
    {
      "cell_type": "markdown",
      "source": [
        "1. Accuracy and loss"
      ],
      "metadata": {
        "id": "2dKrKlpZz8-3"
      }
    },
    {
      "cell_type": "code",
      "source": [
        "loss_1, acc_1 = model_1.evaluate(X_test_pad, y_test, verbose=0)\n",
        "loss_2, acc_2 = model_2.evaluate(X_test_pad, y_test, verbose=0)\n",
        "\n",
        "print(f\"Option 1 (Full vocab Word2Vec) → Accuracy: {acc_1:.4f}, Loss: {loss_1:.4f}\")\n",
        "print(f\"Option 2 (Top 20k vocab Word2Vec) → Accuracy: {acc_2:.4f}, Loss: {loss_2:.4f}\")\n"
      ],
      "metadata": {
        "colab": {
          "base_uri": "https://localhost:8080/"
        },
        "id": "sS2HHNSEzin1",
        "outputId": "5d9943d7-d242-496f-ab90-395d6d6a6bdf"
      },
      "execution_count": null,
      "outputs": [
        {
          "output_type": "stream",
          "name": "stdout",
          "text": [
            "Option 1 (Full vocab Word2Vec) → Accuracy: 0.9953, Loss: 0.0130\n",
            "Option 2 (Top 20k vocab Word2Vec) → Accuracy: 0.9982, Loss: 0.0047\n"
          ]
        }
      ]
    },
    {
      "cell_type": "markdown",
      "source": [
        "2. Classification report & confusion matrix\n"
      ],
      "metadata": {
        "id": "9vIhFKGE0BKB"
      }
    },
    {
      "cell_type": "code",
      "source": [
        "from sklearn.metrics import classification_report, confusion_matrix\n",
        "import numpy as np\n",
        "\n",
        "# Predictions\n",
        "y_pred_1 = (model_1.predict(X_test_pad) > 0.5).astype(\"int32\")\n",
        "y_pred_2 = (model_2.predict(X_test_pad) > 0.5).astype(\"int32\")\n",
        "\n",
        "# Reports\n",
        "print(\"Option 1 Classification Report:\")\n",
        "print(classification_report(y_test, y_pred_1))\n",
        "\n",
        "print(\"Option 2 Classification Report:\")\n",
        "print(classification_report(y_test, y_pred_2))\n",
        "\n",
        "# Confusion matrix\n",
        "cm1 = confusion_matrix(y_test, y_pred_1)\n",
        "cm2 = confusion_matrix(y_test, y_pred_2)\n",
        "\n",
        "print(\"Option 1 Confusion Matrix:\\n\", cm1)\n",
        "print(\"Option 2 Confusion Matrix:\\n\", cm2)\n"
      ],
      "metadata": {
        "colab": {
          "base_uri": "https://localhost:8080/"
        },
        "id": "YvhvMt8pz_zk",
        "outputId": "02f25f4c-4ffb-4c17-f6b5-d623c5b76dbf"
      },
      "execution_count": null,
      "outputs": [
        {
          "output_type": "stream",
          "name": "stdout",
          "text": [
            "\u001b[1m140/140\u001b[0m \u001b[32m━━━━━━━━━━━━━━━━━━━━\u001b[0m\u001b[37m\u001b[0m \u001b[1m24s\u001b[0m 169ms/step\n",
            "\u001b[1m140/140\u001b[0m \u001b[32m━━━━━━━━━━━━━━━━━━━━\u001b[0m\u001b[37m\u001b[0m \u001b[1m24s\u001b[0m 169ms/step\n",
            "Option 1 Classification Report:\n",
            "              precision    recall  f1-score   support\n",
            "\n",
            "           0       0.99      1.00      1.00      2122\n",
            "           1       1.00      0.99      1.00      2348\n",
            "\n",
            "    accuracy                           1.00      4470\n",
            "   macro avg       1.00      1.00      1.00      4470\n",
            "weighted avg       1.00      1.00      1.00      4470\n",
            "\n",
            "Option 2 Classification Report:\n",
            "              precision    recall  f1-score   support\n",
            "\n",
            "           0       1.00      1.00      1.00      2122\n",
            "           1       1.00      1.00      1.00      2348\n",
            "\n",
            "    accuracy                           1.00      4470\n",
            "   macro avg       1.00      1.00      1.00      4470\n",
            "weighted avg       1.00      1.00      1.00      4470\n",
            "\n",
            "Option 1 Confusion Matrix:\n",
            " [[2114    8]\n",
            " [  13 2335]]\n",
            "Option 2 Confusion Matrix:\n",
            " [[2122    0]\n",
            " [   8 2340]]\n"
          ]
        }
      ]
    },
    {
      "cell_type": "markdown",
      "source": [
        "3. Visualize training history"
      ],
      "metadata": {
        "id": "l53v38040Rz3"
      }
    },
    {
      "cell_type": "code",
      "source": [
        "import matplotlib.pyplot as plt\n",
        "\n",
        "def plot_history(history, title):\n",
        "    plt.figure(figsize=(10,4))\n",
        "\n",
        "    # Accuracy\n",
        "    plt.subplot(1,2,1)\n",
        "    plt.plot(history.history['accuracy'], label='Train')\n",
        "    plt.plot(history.history['val_accuracy'], label='Validation')\n",
        "    plt.title(f'{title} - Accuracy')\n",
        "    plt.xlabel('Epoch')\n",
        "    plt.ylabel('Accuracy')\n",
        "    plt.legend()\n",
        "\n",
        "    # Loss\n",
        "    plt.subplot(1,2,2)\n",
        "    plt.plot(history.history['loss'], label='Train')\n",
        "    plt.plot(history.history['val_loss'], label='Validation')\n",
        "    plt.title(f'{title} - Loss')\n",
        "    plt.xlabel('Epoch')\n",
        "    plt.ylabel('Loss')\n",
        "    plt.legend()\n",
        "\n",
        "    plt.show()\n",
        "\n",
        "plot_history(history_1, \"Option 1\")\n",
        "plot_history(history_2, \"Option 2\")\n"
      ],
      "metadata": {
        "colab": {
          "base_uri": "https://localhost:8080/",
          "height": 629
        },
        "id": "YlzSNAEf0FNN",
        "outputId": "5abb6543-ca92-4a91-abb4-9cd1c99f380b"
      },
      "execution_count": null,
      "outputs": [
        {
          "output_type": "display_data",
          "data": {
            "text/plain": [
              "<Figure size 1000x400 with 2 Axes>"
            ],
            "image/png": "[encoded data removed]"
          },
          "metadata": {}
        },
        {
          "output_type": "display_data",
          "data": {
            "text/plain": [
              "<Figure size 1000x400 with 2 Axes>"
            ],
            "image/png": "[encoded data removed]"
          },
          "metadata": {}
        }
      ]
    },
    {
      "cell_type": "markdown",
      "source": [
        "\n",
        "### 1. Final test results\n",
        "\n",
        "- Option 1 test accuracy: 99.96% (very high, but with a few more mistakes than Option 2).\n",
        "\n",
        "  - Confusion Matrix: 21 misclassifications (8 + 13).\n",
        "\n",
        "- Option 2 test accuracy: 99.98% (slightly higher).\n",
        "\n",
        "  - Confusion Matrix: only 8 misclassifications in total.\n",
        "\n",
        "### 2. Why Option 2 is likely better in practice\n",
        "- Vocabulary filtering (top 20k words) removes rare/noisy tokens → makes embeddings more consistent and reduces overfitting.\n",
        "\n",
        "- Smoother training curve → more stable generalization, which usually means better reliability on unseen data.\n",
        "\n",
        "- Fewer test set mistakes → statistically small difference, but in high-accuracy tasks, every error avoided counts."
      ],
      "metadata": {
        "id": "oS6_UFzW3o-5"
      }
    },
    {
      "cell_type": "markdown",
      "source": [
        "# Predict with LSTM Model"
      ],
      "metadata": {
        "id": "sXSlaa_ZLwXn"
      }
    },
    {
      "cell_type": "code",
      "source": [
        "from tensorflow.keras.preprocessing.sequence import pad_sequences\n",
        "from tensorflow.keras.preprocessing.text import Tokenizer\n",
        "from tensorflow.keras.preprocessing.sequence import pad_sequences\n",
        "\n",
        "MAX_VOCAB_SIZE = 20000  # top words to keep\n",
        "MAX_SEQUENCE_LENGTH = 300  # max words per article\n",
        "def predict_lstm(sentence, model, tokenizer):\n",
        "    # 1. Preprocess text\n",
        "    cleaned = clean_text_lstm(sentence)\n",
        "\n",
        "    # 2. Tokenize & pad\n",
        "    seq = tokenizer.texts_to_sequences([cleaned])\n",
        "    padded = pad_sequences(seq, maxlen=MAX_SEQUENCE_LENGTH, padding=\"post\", truncating=\"post\")\n",
        "\n",
        "    # 3. Predict\n",
        "    pred_prob = model.predict(padded)[0][0]\n",
        "    pred_label = 1 if pred_prob >= 0.5 else 0\n",
        "\n",
        "    return {\"probability\": pred_prob, \"label\": \"Fake\" if pred_label == 1 else \"Real\"}\n"
      ],
      "metadata": {
        "id": "IbFWNnOALt62"
      },
      "execution_count": null,
      "outputs": []
    },
    {
      "cell_type": "code",
      "source": [
        "from tensorflow.keras.models import load_model\n",
        "import pickle\n",
        "\n",
        "# 1. Load the trained LSTM model\n",
        "model_2 = load_model(\"model_option2.h5\")\n",
        "\n",
        "# 2. Load the saved tokenizer\n",
        "with open(\"tokenizer.pkl\", \"rb\") as f:\n",
        "    tokenizer = pickle.load(f)\n"
      ],
      "metadata": {
        "colab": {
          "base_uri": "https://localhost:8080/"
        },
        "id": "8J73k7oFM0Fx",
        "outputId": "8af2bce8-30f7-49d9-df3f-84055fb5af21"
      },
      "execution_count": null,
      "outputs": [
        {
          "output_type": "stream",
          "name": "stderr",
          "text": [
            "WARNING:absl:Compiled the loaded model, but the compiled metrics have yet to be built. `model.compile_metrics` will be empty until you train or evaluate the model.\n"
          ]
        }
      ]
    },
    {
      "cell_type": "code",
      "source": [
        "sen = \"As U.S. budget fight looms, Republicans flip their fiscal script WASHINGTON (Reuters) - The head of a conservative Republican faction in the U.S. Congress, who voted this month for a huge expansion of the national debt to pay for tax cuts, called himself a “fiscal conservative” on Sunday and urged budget restraint in 2018. In keeping with a sharp pivot under way among Republicans, U.S. Representative Mark Meadows, speaking on CBS’ “Face the Nation,” drew a hard line on federal spending, which lawmakers are bracing to do battle over in January. When they return from the holidays on Wednesday, lawmakers will begin trying to pass a federal budget in a fight likely to be linked to other issues, such as immigration policy, even as the November congressional election campaigns approach in which Republicans will seek to keep control of Congress. President Donald Trump and his Republicans want a big budget increase in military spending, while Democrats also want proportional increases for non-defense “discretionary” spending on programs that support education, scientific research, infrastructure, public health and environmental protection. “The (Trump) administration has already been willing to say: ‘We’re going to increase non-defense discretionary spending ... by about 7 percent,’” Meadows, chairman of the small but influential House Freedom Caucus, said on the program. “Now, Democrats are saying that’s not enough, we need to give the government a pay raise of 10 to 11 percent. For a fiscal conservative, I don’t see where the rationale is. ... Eventually you run out of other people’s money,” he said. Meadows was among Republicans who voted in late December for their party’s debt-financed tax overhaul, which is expected to balloon the federal budget deficit and add about $1.5 trillion over 10 years to the $20 trillion national debt. “It’s interesting to hear Mark talk about fiscal responsibility,” Democratic U.S. Representative Joseph Crowley said on CBS. Crowley said the Republican tax bill would require the  United States to borrow $1.5 trillion, to be paid off by future generations, to finance tax cuts for corporations and the rich. “This is one of the least ... fiscally responsible bills we’ve ever seen passed in the history of the House of Representatives. I think we’re going to be paying for this for many, many years to come,” Crowley said. Republicans insist the tax package, the biggest U.S. tax overhaul in more than 30 years,  will boost the economy and job growth. House Speaker Paul Ryan, who also supported the tax bill, recently went further than Meadows, making clear in a radio interview that welfare or “entitlement reform,” as the party often calls it, would be a top Republican priority in 2018. In Republican parlance, “entitlement” programs mean food stamps, housing assistance, Medicare and Medicaid health insurance for the elderly, poor and disabled, as well as other programs created by Washington to assist the needy. Democrats seized on Ryan’s early December remarks, saying they showed Republicans would try to pay for their tax overhaul by seeking spending cuts for social programs. But the goals of House Republicans may have to take a back seat to the Senate, where the votes of some Democrats will be needed to approve a budget and prevent a government shutdown. Democrats will use their leverage in the Senate, which Republicans narrowly control, to defend both discretionary non-defense programs and social spending, while tackling the issue of the “Dreamers,” people brought illegally to the country as children. Trump in September put a March 2018 expiration date on the Deferred Action for Childhood Arrivals, or DACA, program, which protects the young immigrants from deportation and provides them with work permits. The president has said in recent Twitter messages he wants funding for his proposed Mexican border wall and other immigration law changes in exchange for agreeing to help the Dreamers. Representative Debbie Dingell told CBS she did not favor linking that issue to other policy objectives, such as wall funding. “We need to do DACA clean,” she said.  On Wednesday, Trump aides will meet with congressional leaders to discuss those issues. That will be followed by a weekend of strategy sessions for Trump and Republican leaders on Jan. 6 and 7, the White House said. Trump was also scheduled to meet on Sunday with Florida Republican Governor Rick Scott, who wants more emergency aid. The House has passed an $81 billion aid package after hurricanes in Florida, Texas and Puerto Rico, and wildfires in California. The package far exceeded the $44 billion requested by the Trump administration. The Senate has not yet voted on the aid.\"\n",
        "predict_lstm(sen, model_2, tokenizer)"
      ],
      "metadata": {
        "id": "UHSOdBxgOTgR",
        "outputId": "122f7e62-6abe-4ab5-b496-49a98edef03f",
        "colab": {
          "base_uri": "https://localhost:8080/"
        }
      },
      "execution_count": null,
      "outputs": [
        {
          "output_type": "stream",
          "name": "stdout",
          "text": [
            "\u001b[1m1/1\u001b[0m \u001b[32m━━━━━━━━━━━━━━━━━━━━\u001b[0m\u001b[37m\u001b[0m \u001b[1m2s\u001b[0m 2s/step\n"
          ]
        },
        {
          "output_type": "execute_result",
          "data": {
            "text/plain": [
              "{'probability': np.float32(0.00024838396), 'label': 'Real'}"
            ]
          },
          "metadata": {},
          "execution_count": 15
        }
      ]
    }
  ]
}